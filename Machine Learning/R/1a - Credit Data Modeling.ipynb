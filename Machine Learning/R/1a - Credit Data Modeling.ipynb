{
 "cells": [
  {
   "cell_type": "markdown",
   "metadata": {},
   "source": [
    "After being given loan_data, you are particularly interested about the defaulted loans in the data set. You want to get an idea of the number, and percentage of defaults. Defaults are rare, so you always want to check what the proportion of defaults is in a loan dataset. The CrossTable() function is very useful here.\n",
    "\n",
    "Remember that default information is stored in the response variable loan_status, where 1 represents a default, and 0 represents non-default.\n",
    "\n",
    "To learn more about variable structures and spot unexpected tendencies in the data, you should examine the relationship between loan_status and certain factor variables. For example, you would expect that the proportion of defaults in the group of customers with grade G (worst credit rating score) is substantially higher than the proportion of defaults in the grade A group (best credit rating score).\n",
    "\n",
    "Conveniently, CrossTable() can also be applied on two categorical variables. Let's explore!"
   ]
  },
  {
   "cell_type": "code",
   "execution_count": 76,
   "metadata": {},
   "outputs": [],
   "source": [
    "options(repr.plot.width=5, repr.plot.height=4)\n",
    "loan_data = readRDS(\"../../../data/credit/loan_data_ch1.rds\")"
   ]
  },
  {
   "cell_type": "code",
   "execution_count": 77,
   "metadata": {},
   "outputs": [
    {
     "name": "stdout",
     "output_type": "stream",
     "text": [
      "'data.frame':\t29092 obs. of  8 variables:\n",
      " $ loan_status   : int  0 0 0 0 0 0 1 0 1 0 ...\n",
      " $ loan_amnt     : int  5000 2400 10000 5000 3000 12000 9000 3000 10000 1000 ...\n",
      " $ int_rate      : num  10.7 NA 13.5 NA NA ...\n",
      " $ grade         : Factor w/ 7 levels \"A\",\"B\",\"C\",\"D\",..: 2 3 3 1 5 2 3 2 2 4 ...\n",
      " $ emp_length    : int  10 25 13 3 9 11 0 3 3 0 ...\n",
      " $ home_ownership: Factor w/ 4 levels \"MORTGAGE\",\"OTHER\",..: 4 4 4 4 4 3 4 4 4 4 ...\n",
      " $ annual_inc    : num  24000 12252 49200 36000 48000 ...\n",
      " $ age           : int  33 31 24 39 24 28 22 22 28 22 ...\n"
     ]
    }
   ],
   "source": [
    "# View the structure of loan_data\n",
    "str(loan_data)"
   ]
  },
  {
   "cell_type": "code",
   "execution_count": 78,
   "metadata": {},
   "outputs": [],
   "source": [
    "#install.packages(\"gmodels\")\n",
    "# Load the gmodels package \n",
    "library(gmodels)"
   ]
  },
  {
   "cell_type": "code",
   "execution_count": 79,
   "metadata": {},
   "outputs": [
    {
     "name": "stdout",
     "output_type": "stream",
     "text": [
      "\n",
      " \n",
      "   Cell Contents\n",
      "|-------------------------|\n",
      "|                       N |\n",
      "|         N / Table Total |\n",
      "|-------------------------|\n",
      "\n",
      " \n",
      "Total Observations in Table:  29092 \n",
      "\n",
      " \n",
      "          |         0 |         1 | \n",
      "          |-----------|-----------|\n",
      "          |     25865 |      3227 | \n",
      "          |     0.889 |     0.111 | \n",
      "          |-----------|-----------|\n",
      "\n",
      "\n",
      "\n",
      " \n"
     ]
    }
   ],
   "source": [
    "# Call CrossTable() on loan_status\n",
    "CrossTable(loan_data$loan_status)"
   ]
  },
  {
   "cell_type": "code",
   "execution_count": 80,
   "metadata": {},
   "outputs": [
    {
     "name": "stdout",
     "output_type": "stream",
     "text": [
      "\n",
      " \n",
      "   Cell Contents\n",
      "|-------------------------|\n",
      "|                       N |\n",
      "|           N / Row Total |\n",
      "|-------------------------|\n",
      "\n",
      " \n",
      "Total Observations in Table:  29092 \n",
      "\n",
      " \n",
      "                | loan_data$loan_status \n",
      "loan_data$grade |         0 |         1 | Row Total | \n",
      "----------------|-----------|-----------|-----------|\n",
      "              A |      9084 |       565 |      9649 | \n",
      "                |     0.941 |     0.059 |     0.332 | \n",
      "----------------|-----------|-----------|-----------|\n",
      "              B |      8344 |       985 |      9329 | \n",
      "                |     0.894 |     0.106 |     0.321 | \n",
      "----------------|-----------|-----------|-----------|\n",
      "              C |      4904 |       844 |      5748 | \n",
      "                |     0.853 |     0.147 |     0.198 | \n",
      "----------------|-----------|-----------|-----------|\n",
      "              D |      2651 |       580 |      3231 | \n",
      "                |     0.820 |     0.180 |     0.111 | \n",
      "----------------|-----------|-----------|-----------|\n",
      "              E |       692 |       176 |       868 | \n",
      "                |     0.797 |     0.203 |     0.030 | \n",
      "----------------|-----------|-----------|-----------|\n",
      "              F |       155 |        56 |       211 | \n",
      "                |     0.735 |     0.265 |     0.007 | \n",
      "----------------|-----------|-----------|-----------|\n",
      "              G |        35 |        21 |        56 | \n",
      "                |     0.625 |     0.375 |     0.002 | \n",
      "----------------|-----------|-----------|-----------|\n",
      "   Column Total |     25865 |      3227 |     29092 | \n",
      "----------------|-----------|-----------|-----------|\n",
      "\n",
      " \n"
     ]
    }
   ],
   "source": [
    "# Call CrossTable() on grade and loan_status\n",
    "CrossTable(loan_data$grade, loan_data$loan_status, prop.r= TRUE, prop.t = FALSE, prop.c = FALSE, prop.chisq = FALSE)"
   ]
  },
  {
   "cell_type": "code",
   "execution_count": 81,
   "metadata": {},
   "outputs": [
    {
     "data": {
      "image/png": "[encoded data removed]",
      "text/plain": [
       "Plot with title “Histogram of loan_data$loan_amnt”"
      ]
     },
     "metadata": {},
     "output_type": "display_data",
     "source": "R display func"
    }
   ],
   "source": [
    "# Create histogram of loan_amnt: hist_1\n",
    "hist_1 <- hist(loan_data$loan_amnt)"
   ]
  },
  {
   "cell_type": "code",
   "execution_count": 82,
   "metadata": {},
   "outputs": [
    {
     "name": "stdout",
     "output_type": "stream",
     "text": [
      " [1]     0  2000  4000  6000  8000 10000 12000 14000 16000 18000 20000 22000\n",
      "[13] 24000 26000 28000 30000 32000 34000 36000\n"
     ]
    }
   ],
   "source": [
    "# Print locations of the breaks in hist_1\n",
    "print(hist_1$breaks)"
   ]
  },
  {
   "cell_type": "code",
   "execution_count": 83,
   "metadata": {},
   "outputs": [
    {
     "data": {
      "image/png": "[encoded data removed]",
      "text/plain": [
       "Plot with title “Histogram of the loan amount”"
      ]
     },
     "metadata": {},
     "output_type": "display_data",
     "source": "R display func"
    }
   ],
   "source": [
    "#options(repr.plot.width=5, repr.plot.height=4)\n",
    "# Change number of breaks and add labels: hist_2\n",
    "hist_2 <- hist(loan_data$loan_amnt, breaks = 200, xlab = \"Loan Amount\", \n",
    "               main = \"Histogram of the loan amount\")"
   ]
  },
  {
   "cell_type": "code",
   "execution_count": 84,
   "metadata": {},
   "outputs": [
    {
     "data": {
      "image/png": "[encoded data removed]",
      "text/plain": [
       "plot without title"
      ]
     },
     "metadata": {},
     "output_type": "display_data",
     "source": "R display func"
    }
   ],
   "source": [
    "# Plot the age variable\n",
    "plot(loan_data$age, ylab=\"Age\")"
   ]
  },
  {
   "cell_type": "code",
   "execution_count": 85,
   "metadata": {},
   "outputs": [],
   "source": [
    "# Save the outlier's index to index_highage\n",
    "index_highage <- which(loan_data$age > 122)"
   ]
  },
  {
   "cell_type": "code",
   "execution_count": 86,
   "metadata": {},
   "outputs": [],
   "source": [
    "# Create data set new_data with outlier deleted\n",
    "new_data <- loan_data[-index_highage, ]"
   ]
  },
  {
   "cell_type": "code",
   "execution_count": 87,
   "metadata": {},
   "outputs": [
    {
     "data": {
      "image/png": "[encoded data removed]",
      "text/plain": [
       "plot without title"
      ]
     },
     "metadata": {},
     "output_type": "display_data",
     "source": "R display func"
    }
   ],
   "source": [
    "# Make bivariate scatterplot of age and annual income\n",
    "plot(loan_data$age, loan_data$annual_inc, xlab = \"Age\", ylab = \"Annual Income\")"
   ]
  },
  {
   "cell_type": "code",
   "execution_count": 101,
   "metadata": {},
   "outputs": [
    {
     "data": {
      "text/plain": [
       "   Min. 1st Qu.  Median    Mean 3rd Qu.    Max.    NA's \n",
       "   5.42    7.90   10.99   11.00   13.47   23.22    2776 "
      ]
     },
     "metadata": {},
     "output_type": "display_data"
    }
   ],
   "source": [
    "# Look at summary of loan_data\n",
    "summary(loan_data$int_rate)"
   ]
  },
  {
   "cell_type": "code",
   "execution_count": 102,
   "metadata": {},
   "outputs": [],
   "source": [
    "# Get indices of missing interest rates: na_index\n",
    "na_index <- which(is.na(loan_data$int_rate))"
   ]
  },
  {
   "cell_type": "code",
   "execution_count": 103,
   "metadata": {},
   "outputs": [],
   "source": [
    "# Remove observations with missing interest rates: loan_data_delrow_na\n",
    "loan_data_delrow_na <- loan_data[-na_index, ]"
   ]
  },
  {
   "cell_type": "code",
   "execution_count": 104,
   "metadata": {},
   "outputs": [],
   "source": [
    "# Make copy of loan_data\n",
    "loan_data_delcol_na <- loan_data"
   ]
  },
  {
   "cell_type": "code",
   "execution_count": 105,
   "metadata": {},
   "outputs": [],
   "source": [
    "# Delete interest rate column from loan_data_delcol_na\n",
    "loan_data_delcol_na$int_rate <- NULL"
   ]
  },
  {
   "cell_type": "code",
   "execution_count": 106,
   "metadata": {},
   "outputs": [],
   "source": [
    "# Compute the median of int_rate\n",
    "median_ir <- median(loan_data$int_rate, na.rm = TRUE)"
   ]
  },
  {
   "cell_type": "code",
   "execution_count": 107,
   "metadata": {},
   "outputs": [],
   "source": [
    "# Make copy of loan_data\n",
    "loan_data_replace <- loan_data"
   ]
  },
  {
   "cell_type": "code",
   "execution_count": 108,
   "metadata": {},
   "outputs": [],
   "source": [
    "# Replace missing interest rates with median\n",
    "loan_data_replace$int_rate[na_index] <- median_ir"
   ]
  },
  {
   "cell_type": "code",
   "execution_count": 109,
   "metadata": {},
   "outputs": [
    {
     "data": {
      "text/plain": [
       "   Min. 1st Qu.  Median    Mean 3rd Qu.    Max. \n",
       "   5.42    8.49   10.99   11.00   13.11   23.22 "
      ]
     },
     "metadata": {},
     "output_type": "display_data"
    }
   ],
   "source": [
    "# Check if the NAs are gone\n",
    "summary(loan_data_replace$int_rate)"
   ]
  },
  {
   "cell_type": "code",
   "execution_count": 110,
   "metadata": {},
   "outputs": [],
   "source": [
    "# Make the necessary replacements in the coarse classification example below \n",
    "loan_data$ir_cat <- rep(NA, length(loan_data$int_rate))"
   ]
  },
  {
   "cell_type": "code",
   "execution_count": 111,
   "metadata": {},
   "outputs": [],
   "source": [
    "loan_data$ir_cat[which(loan_data$int_rate <= 8)] <- \"0-8\"\n",
    "loan_data$ir_cat[which(loan_data$int_rate > 8 & loan_data$int_rate <= 11)] <- \"8-11\"\n",
    "loan_data$ir_cat[which(loan_data$int_rate > 11 & loan_data$int_rate <= 13.5)] <- \"11-13.5\"\n",
    "loan_data$ir_cat[which(loan_data$int_rate > 13.5)] <- \"13.5+\"\n",
    "loan_data$ir_cat[which(is.na(loan_data$int_rate))] <- \"Missing\""
   ]
  },
  {
   "cell_type": "code",
   "execution_count": 112,
   "metadata": {},
   "outputs": [],
   "source": [
    "loan_data$ir_cat <- as.factor(loan_data$ir_cat)"
   ]
  },
  {
   "cell_type": "code",
   "execution_count": 113,
   "metadata": {},
   "outputs": [
    {
     "data": {
      "image/png": "[encoded data removed]",
      "text/plain": [
       "plot without title"
      ]
     },
     "metadata": {},
     "output_type": "display_data",
     "source": "R display func"
    }
   ],
   "source": [
    "# Look at your new variable using plot()\n",
    "plot(loan_data$ir_cat)"
   ]
  },
  {
   "cell_type": "markdown",
   "metadata": {},
   "source": [
    "### Lets load the second version of data"
   ]
  },
  {
   "cell_type": "code",
   "execution_count": 114,
   "metadata": {},
   "outputs": [],
   "source": [
    "loan_data = readRDS(\"../../../data/credit/loan_data_ch2.rds\")"
   ]
  },
  {
   "cell_type": "code",
   "execution_count": 115,
   "metadata": {},
   "outputs": [],
   "source": [
    "# Set seed of 567\n",
    "set.seed(567)"
   ]
  },
  {
   "cell_type": "code",
   "execution_count": 116,
   "metadata": {},
   "outputs": [],
   "source": [
    "# Store row numbers for training set: index_train\n",
    "index_train <- sample(1:nrow(loan_data), 2 / 3 * nrow(loan_data))"
   ]
  },
  {
   "cell_type": "code",
   "execution_count": 117,
   "metadata": {},
   "outputs": [],
   "source": [
    "# Create training set: training_set\n",
    "training_set <- loan_data[index_train,]"
   ]
  },
  {
   "cell_type": "code",
   "execution_count": 118,
   "metadata": {},
   "outputs": [],
   "source": [
    "# Create test set: test_set\n",
    "test_set <- loan_data[-index_train,]"
   ]
  },
  {
   "cell_type": "code",
   "execution_count": 119,
   "metadata": {},
   "outputs": [],
   "source": [
    "# Build a glm model with variable ir_cat as a predictor\n",
    "log_model_cat <- glm(loan_status ~ ir_cat, family = \"binomial\", data = training_set)"
   ]
  },
  {
   "cell_type": "code",
   "execution_count": 120,
   "metadata": {},
   "outputs": [
    {
     "data": {
      "text/plain": [
       "\n",
       "Call:\n",
       "glm(formula = loan_status ~ ir_cat, family = \"binomial\", data = training_set)\n",
       "\n",
       "Deviance Residuals: \n",
       "    Min       1Q   Median       3Q      Max  \n",
       "-0.6298  -0.5401  -0.4390  -0.3382   2.4040  \n",
       "\n",
       "Coefficients:\n",
       "              Estimate Std. Error z value Pr(>|z|)    \n",
       "(Intercept)   -2.83233    0.06321 -44.808  < 2e-16 ***\n",
       "ir_cat11-13.5  0.98082    0.07641  12.837  < 2e-16 ***\n",
       "ir_cat13.5+    1.31523    0.07541  17.441  < 2e-16 ***\n",
       "ir_cat8-11     0.54145    0.08312   6.514 7.31e-11 ***\n",
       "ir_catMissing  0.69404    0.09819   7.068 1.57e-12 ***\n",
       "---\n",
       "Signif. codes:  0 ‘***’ 0.001 ‘**’ 0.01 ‘*’ 0.05 ‘.’ 0.1 ‘ ’ 1\n",
       "\n",
       "(Dispersion parameter for binomial family taken to be 1)\n",
       "\n",
       "    Null deviance: 13676  on 19393  degrees of freedom\n",
       "Residual deviance: 13289  on 19389  degrees of freedom\n",
       "AIC: 13299\n",
       "\n",
       "Number of Fisher Scoring iterations: 5\n"
      ]
     },
     "metadata": {},
     "output_type": "display_data"
    }
   ],
   "source": [
    "# Print the parameter estimates \n",
    "summary(log_model_cat)"
   ]
  },
  {
   "cell_type": "code",
   "execution_count": 121,
   "metadata": {},
   "outputs": [
    {
     "data": {
      "text/plain": [
       "\n",
       "    0-8 11-13.5   13.5+    8-11 Missing \n",
       "   7130    6953    6002    6230    2776 "
      ]
     },
     "metadata": {},
     "output_type": "display_data"
    }
   ],
   "source": [
    "# Look at the different categories in ir_cat using table()\n",
    "table(loan_data$ir_cat)"
   ]
  },
  {
   "cell_type": "code",
   "execution_count": 122,
   "metadata": {},
   "outputs": [],
   "source": [
    "# Build the logistic regression model\n",
    "log_model_multi = glm(loan_status ~ age + ir_cat + grade + loan_amnt + annual_inc, family = \"binomial\", data = training_set)"
   ]
  },
  {
   "cell_type": "code",
   "execution_count": 123,
   "metadata": {},
   "outputs": [
    {
     "data": {
      "text/plain": [
       "\n",
       "Call:\n",
       "glm(formula = loan_status ~ age + ir_cat + grade + loan_amnt + \n",
       "    annual_inc, family = \"binomial\", data = training_set)\n",
       "\n",
       "Deviance Residuals: \n",
       "    Min       1Q   Median       3Q      Max  \n",
       "-1.1261  -0.5411  -0.4409  -0.3432   3.2309  \n",
       "\n",
       "Coefficients:\n",
       "                Estimate Std. Error z value Pr(>|z|)    \n",
       "(Intercept)   -2.300e+00  1.265e-01 -18.176  < 2e-16 ***\n",
       "age           -7.471e-03  3.872e-03  -1.930 0.053663 .  \n",
       "ir_cat11-13.5  6.103e-01  1.303e-01   4.682 2.83e-06 ***\n",
       "ir_cat13.5+    5.294e-01  1.451e-01   3.648 0.000264 ***\n",
       "ir_cat8-11     3.783e-01  1.156e-01   3.274 0.001062 ** \n",
       "ir_catMissing  3.531e-01  1.272e-01   2.776 0.005509 ** \n",
       "gradeB         2.186e-01  1.047e-01   2.087 0.036857 *  \n",
       "gradeC         5.306e-01  1.198e-01   4.429 9.45e-06 ***\n",
       "gradeD         8.783e-01  1.362e-01   6.448 1.14e-10 ***\n",
       "gradeE         9.993e-01  1.644e-01   6.077 1.22e-09 ***\n",
       "gradeF         1.416e+00  2.245e-01   6.306 2.87e-10 ***\n",
       "gradeG         1.979e+00  3.364e-01   5.883 4.03e-09 ***\n",
       "loan_amnt     -3.666e-06  4.110e-06  -0.892 0.372379    \n",
       "annual_inc    -4.808e-06  7.262e-07  -6.621 3.56e-11 ***\n",
       "---\n",
       "Signif. codes:  0 ‘***’ 0.001 ‘**’ 0.01 ‘*’ 0.05 ‘.’ 0.1 ‘ ’ 1\n",
       "\n",
       "(Dispersion parameter for binomial family taken to be 1)\n",
       "\n",
       "    Null deviance: 13676  on 19393  degrees of freedom\n",
       "Residual deviance: 13134  on 19380  degrees of freedom\n",
       "AIC: 13162\n",
       "\n",
       "Number of Fisher Scoring iterations: 5\n"
      ]
     },
     "metadata": {},
     "output_type": "display_data"
    }
   ],
   "source": [
    "# Obtain significance levels using summary()\n",
    "summary(log_model_multi)"
   ]
  },
  {
   "cell_type": "code",
   "execution_count": 124,
   "metadata": {},
   "outputs": [
    {
     "ename": "ERROR",
     "evalue": "Error in predict(log_model_small, newdata = test_set, type = \"response\"): object 'log_model_small' not found\n",
     "execution_count": 124,
     "output_type": "error",
     "traceback": [
      "Error in predict(log_model_small, newdata = test_set, type = \"response\"): object 'log_model_small' not found\nTraceback:\n",
      "1. predict(log_model_small, newdata = test_set, type = \"response\")"
     ]
    }
   ],
   "source": [
    "# Build the logistic regression model\n",
    "predictions_all_small <- predict(log_model_small, newdata = test_set, type = \"response\")"
   ]
  },
  {
   "cell_type": "code",
   "execution_count": null,
   "metadata": {},
   "outputs": [],
   "source": []
  },
  {
   "cell_type": "code",
   "execution_count": null,
   "metadata": {},
   "outputs": [],
   "source": []
  }
 ],
 "metadata": {
  "kernelspec": {
   "display_name": "R",
   "language": "R",
   "name": "ir"
  },
  "language_info": {
   "codemirror_mode": "r",
   "file_extension": ".r",
   "mimetype": "text/x-r-source",
   "name": "R",
   "pygments_lexer": "r",
   "version": "3.4.3"
  }
 },
 "nbformat": 4,
 "nbformat_minor": 2
}
