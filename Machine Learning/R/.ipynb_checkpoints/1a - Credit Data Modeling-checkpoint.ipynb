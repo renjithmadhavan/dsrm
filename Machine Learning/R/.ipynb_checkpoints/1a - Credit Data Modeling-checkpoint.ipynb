{
 "cells": [
  {
   "cell_type": "markdown",
   "metadata": {},
   "source": [
    "After being given loan_data, you are particularly interested about the defaulted loans in the data set. You want to get an idea of the number, and percentage of defaults. Defaults are rare, so you always want to check what the proportion of defaults is in a loan dataset. The CrossTable() function is very useful here.\n",
    "\n",
    "Remember that default information is stored in the response variable loan_status, where 1 represents a default, and 0 represents non-default.\n",
    "\n",
    "To learn more about variable structures and spot unexpected tendencies in the data, you should examine the relationship between loan_status and certain factor variables. For example, you would expect that the proportion of defaults in the group of customers with grade G (worst credit rating score) is substantially higher than the proportion of defaults in the grade A group (best credit rating score).\n",
    "\n",
    "Conveniently, CrossTable() can also be applied on two categorical variables. Let's explore!"
   ]
  },
  {
   "cell_type": "code",
   "execution_count": 2,
   "metadata": {},
   "outputs": [],
   "source": [
    "options(repr.plot.width=5, repr.plot.height=4)\n",
    "loan_data = readRDS(\"../../../data/credit/loan_data_ch1.rds\")"
   ]
  },
  {
   "cell_type": "code",
   "execution_count": 3,
   "metadata": {},
   "outputs": [
    {
     "name": "stdout",
     "output_type": "stream",
     "text": [
      "'data.frame':\t29092 obs. of  8 variables:\n",
      " $ loan_status   : int  0 0 0 0 0 0 1 0 1 0 ...\n",
      " $ loan_amnt     : int  5000 2400 10000 5000 3000 12000 9000 3000 10000 1000 ...\n",
      " $ int_rate      : num  10.7 NA 13.5 NA NA ...\n",
      " $ grade         : Factor w/ 7 levels \"A\",\"B\",\"C\",\"D\",..: 2 3 3 1 5 2 3 2 2 4 ...\n",
      " $ emp_length    : int  10 25 13 3 9 11 0 3 3 0 ...\n",
      " $ home_ownership: Factor w/ 4 levels \"MORTGAGE\",\"OTHER\",..: 4 4 4 4 4 3 4 4 4 4 ...\n",
      " $ annual_inc    : num  24000 12252 49200 36000 48000 ...\n",
      " $ age           : int  33 31 24 39 24 28 22 22 28 22 ...\n"
     ]
    }
   ],
   "source": [
    "# View the structure of loan_data\n",
    "str(loan_data)"
   ]
  },
  {
   "cell_type": "code",
   "execution_count": 4,
   "metadata": {},
   "outputs": [],
   "source": [
    "#install.packages(\"gmodels\")\n",
    "# Load the gmodels package \n",
    "library(gmodels)"
   ]
  },
  {
   "cell_type": "code",
   "execution_count": 5,
   "metadata": {},
   "outputs": [
    {
     "name": "stdout",
     "output_type": "stream",
     "text": [
      "\n",
      " \n",
      "   Cell Contents\n",
      "|-------------------------|\n",
      "|                       N |\n",
      "|         N / Table Total |\n",
      "|-------------------------|\n",
      "\n",
      " \n",
      "Total Observations in Table:  29092 \n",
      "\n",
      " \n",
      "          |         0 |         1 | \n",
      "          |-----------|-----------|\n",
      "          |     25865 |      3227 | \n",
      "          |     0.889 |     0.111 | \n",
      "          |-----------|-----------|\n",
      "\n",
      "\n",
      "\n",
      " \n"
     ]
    }
   ],
   "source": [
    "# Call CrossTable() on loan_status\n",
    "CrossTable(loan_data$loan_status)"
   ]
  },
  {
   "cell_type": "code",
   "execution_count": 6,
   "metadata": {},
   "outputs": [
    {
     "name": "stdout",
     "output_type": "stream",
     "text": [
      "\n",
      " \n",
      "   Cell Contents\n",
      "|-------------------------|\n",
      "|                       N |\n",
      "|           N / Row Total |\n",
      "|-------------------------|\n",
      "\n",
      " \n",
      "Total Observations in Table:  29092 \n",
      "\n",
      " \n",
      "                | loan_data$loan_status \n",
      "loan_data$grade |         0 |         1 | Row Total | \n",
      "----------------|-----------|-----------|-----------|\n",
      "              A |      9084 |       565 |      9649 | \n",
      "                |     0.941 |     0.059 |     0.332 | \n",
      "----------------|-----------|-----------|-----------|\n",
      "              B |      8344 |       985 |      9329 | \n",
      "                |     0.894 |     0.106 |     0.321 | \n",
      "----------------|-----------|-----------|-----------|\n",
      "              C |      4904 |       844 |      5748 | \n",
      "                |     0.853 |     0.147 |     0.198 | \n",
      "----------------|-----------|-----------|-----------|\n",
      "              D |      2651 |       580 |      3231 | \n",
      "                |     0.820 |     0.180 |     0.111 | \n",
      "----------------|-----------|-----------|-----------|\n",
      "              E |       692 |       176 |       868 | \n",
      "                |     0.797 |     0.203 |     0.030 | \n",
      "----------------|-----------|-----------|-----------|\n",
      "              F |       155 |        56 |       211 | \n",
      "                |     0.735 |     0.265 |     0.007 | \n",
      "----------------|-----------|-----------|-----------|\n",
      "              G |        35 |        21 |        56 | \n",
      "                |     0.625 |     0.375 |     0.002 | \n",
      "----------------|-----------|-----------|-----------|\n",
      "   Column Total |     25865 |      3227 |     29092 | \n",
      "----------------|-----------|-----------|-----------|\n",
      "\n",
      " \n"
     ]
    }
   ],
   "source": [
    "# Call CrossTable() on grade and loan_status\n",
    "CrossTable(loan_data$grade, loan_data$loan_status, prop.r= TRUE, prop.t = FALSE, prop.c = FALSE, prop.chisq = FALSE)"
   ]
  },
  {
   "cell_type": "code",
   "execution_count": 7,
   "metadata": {},
   "outputs": [
    {
     "data": {
      "image/png": "[encoded data removed]",
      "text/plain": [
       "Plot with title “Histogram of loan_data$loan_amnt”"
      ]
     },
     "metadata": {},
     "output_type": "display_data",
     "source": "R display func"
    }
   ],
   "source": [
    "# Create histogram of loan_amnt: hist_1\n",
    "hist_1 <- hist(loan_data$loan_amnt)"
   ]
  },
  {
   "cell_type": "code",
   "execution_count": 8,
   "metadata": {},
   "outputs": [
    {
     "name": "stdout",
     "output_type": "stream",
     "text": [
      " [1]     0  2000  4000  6000  8000 10000 12000 14000 16000 18000 20000 22000\n",
      "[13] 24000 26000 28000 30000 32000 34000 36000\n"
     ]
    }
   ],
   "source": [
    "# Print locations of the breaks in hist_1\n",
    "print(hist_1$breaks)"
   ]
  },
  {
   "cell_type": "code",
   "execution_count": 9,
   "metadata": {},
   "outputs": [
    {
     "data": {
      "image/png": "[encoded data removed]",
      "text/plain": [
       "Plot with title “Histogram of the loan amount”"
      ]
     },
     "metadata": {},
     "output_type": "display_data",
     "source": "R display func"
    }
   ],
   "source": [
    "#options(repr.plot.width=5, repr.plot.height=4)\n",
    "# Change number of breaks and add labels: hist_2\n",
    "hist_2 <- hist(loan_data$loan_amnt, breaks = 200, xlab = \"Loan Amount\", \n",
    "               main = \"Histogram of the loan amount\")"
   ]
  },
  {
   "cell_type": "code",
   "execution_count": 10,
   "metadata": {},
   "outputs": [
    {
     "data": {
      "image/png": "[encoded data removed]",
      "text/plain": [
       "plot without title"
      ]
     },
     "metadata": {},
     "output_type": "display_data",
     "source": "R display func"
    }
   ],
   "source": [
    "# Plot the age variable\n",
    "plot(loan_data$age, ylab=\"Age\")"
   ]
  },
  {
   "cell_type": "code",
   "execution_count": 11,
   "metadata": {},
   "outputs": [],
   "source": [
    "# Save the outlier's index to index_highage\n",
    "index_highage <- which(loan_data$age > 122)"
   ]
  },
  {
   "cell_type": "code",
   "execution_count": 12,
   "metadata": {},
   "outputs": [],
   "source": [
    "# Create data set new_data with outlier deleted\n",
    "new_data <- loan_data[-index_highage, ]"
   ]
  },
  {
   "cell_type": "code",
   "execution_count": 13,
   "metadata": {},
   "outputs": [
    {
     "data": {
      "image/png": "[encoded data removed]",
      "text/plain": [
       "plot without title"
      ]
     },
     "metadata": {},
     "output_type": "display_data",
     "source": "R display func"
    }
   ],
   "source": [
    "# Make bivariate scatterplot of age and annual income\n",
    "plot(loan_data$age, loan_data$annual_inc, xlab = \"Age\", ylab = \"Annual Income\")"
   ]
  },
  {
   "cell_type": "code",
   "execution_count": 14,
   "metadata": {},
   "outputs": [
    {
     "data": {
      "text/plain": [
       "   Min. 1st Qu.  Median    Mean 3rd Qu.    Max.    NA's \n",
       "   5.42    7.90   10.99   11.00   13.47   23.22    2776 "
      ]
     },
     "metadata": {},
     "output_type": "display_data"
    }
   ],
   "source": [
    "# Look at summary of loan_data\n",
    "summary(loan_data$int_rate)"
   ]
  },
  {
   "cell_type": "code",
   "execution_count": 15,
   "metadata": {},
   "outputs": [],
   "source": [
    "# Get indices of missing interest rates: na_index\n",
    "na_index <- which(is.na(loan_data$int_rate))"
   ]
  },
  {
   "cell_type": "code",
   "execution_count": 16,
   "metadata": {},
   "outputs": [],
   "source": [
    "# Remove observations with missing interest rates: loan_data_delrow_na\n",
    "loan_data_delrow_na <- loan_data[-na_index, ]"
   ]
  },
  {
   "cell_type": "code",
   "execution_count": 17,
   "metadata": {},
   "outputs": [],
   "source": [
    "# Make copy of loan_data\n",
    "loan_data_delcol_na <- loan_data"
   ]
  },
  {
   "cell_type": "code",
   "execution_count": 18,
   "metadata": {},
   "outputs": [],
   "source": [
    "# Delete interest rate column from loan_data_delcol_na\n",
    "loan_data_delcol_na$int_rate <- NULL"
   ]
  },
  {
   "cell_type": "code",
   "execution_count": 19,
   "metadata": {},
   "outputs": [],
   "source": [
    "# Compute the median of int_rate\n",
    "median_ir <- median(loan_data$int_rate, na.rm = TRUE)"
   ]
  },
  {
   "cell_type": "code",
   "execution_count": 20,
   "metadata": {},
   "outputs": [],
   "source": [
    "# Make copy of loan_data\n",
    "loan_data_replace <- loan_data"
   ]
  },
  {
   "cell_type": "code",
   "execution_count": 21,
   "metadata": {},
   "outputs": [],
   "source": [
    "# Replace missing interest rates with median\n",
    "loan_data_replace$int_rate[na_index] <- median_ir"
   ]
  },
  {
   "cell_type": "code",
   "execution_count": 22,
   "metadata": {},
   "outputs": [
    {
     "data": {
      "text/plain": [
       "   Min. 1st Qu.  Median    Mean 3rd Qu.    Max. \n",
       "   5.42    8.49   10.99   11.00   13.11   23.22 "
      ]
     },
     "metadata": {},
     "output_type": "display_data"
    }
   ],
   "source": [
    "# Check if the NAs are gone\n",
    "summary(loan_data_replace$int_rate)"
   ]
  },
  {
   "cell_type": "code",
   "execution_count": 23,
   "metadata": {},
   "outputs": [],
   "source": [
    "# Make the necessary replacements in the coarse classification example below \n",
    "loan_data$ir_cat <- rep(NA, length(loan_data$int_rate))"
   ]
  },
  {
   "cell_type": "code",
   "execution_count": 24,
   "metadata": {},
   "outputs": [],
   "source": [
    "loan_data$ir_cat[which(loan_data$int_rate <= 8)] <- \"0-8\"\n",
    "loan_data$ir_cat[which(loan_data$int_rate > 8 & loan_data$int_rate <= 11)] <- \"8-11\"\n",
    "loan_data$ir_cat[which(loan_data$int_rate > 11 & loan_data$int_rate <= 13.5)] <- \"11-13.5\"\n",
    "loan_data$ir_cat[which(loan_data$int_rate > 13.5)] <- \"13.5+\"\n",
    "loan_data$ir_cat[which(is.na(loan_data$int_rate))] <- \"Missing\""
   ]
  },
  {
   "cell_type": "code",
   "execution_count": 25,
   "metadata": {},
   "outputs": [],
   "source": [
    "loan_data$ir_cat <- as.factor(loan_data$ir_cat)"
   ]
  },
  {
   "cell_type": "code",
   "execution_count": 26,
   "metadata": {},
   "outputs": [
    {
     "data": {
      "image/png": "[encoded data removed]",
      "text/plain": [
       "plot without title"
      ]
     },
     "metadata": {},
     "output_type": "display_data",
     "source": "R display func"
    }
   ],
   "source": [
    "# Look at your new variable using plot()\n",
    "plot(loan_data$ir_cat)"
   ]
  },
  {
   "cell_type": "markdown",
   "metadata": {},
   "source": [
    "### Lets load the second version of data"
   ]
  },
  {
   "cell_type": "code",
   "execution_count": 27,
   "metadata": {},
   "outputs": [],
   "source": [
    "loan_data = readRDS(\"../../../data/credit/loan_data_ch2.rds\")"
   ]
  },
  {
   "cell_type": "code",
   "execution_count": 28,
   "metadata": {},
   "outputs": [],
   "source": [
    "# Set seed of 567\n",
    "set.seed(567)"
   ]
  },
  {
   "cell_type": "code",
   "execution_count": 29,
   "metadata": {},
   "outputs": [],
   "source": [
    "# Store row numbers for training set: index_train\n",
    "index_train <- sample(1:nrow(loan_data), 2 / 3 * nrow(loan_data))"
   ]
  },
  {
   "cell_type": "code",
   "execution_count": 30,
   "metadata": {},
   "outputs": [],
   "source": [
    "# Create training set: training_set\n",
    "training_set <- loan_data[index_train,]"
   ]
  },
  {
   "cell_type": "code",
   "execution_count": 31,
   "metadata": {},
   "outputs": [],
   "source": [
    "# Create test set: test_set\n",
    "test_set <- loan_data[-index_train,]"
   ]
  },
  {
   "cell_type": "code",
   "execution_count": 32,
   "metadata": {},
   "outputs": [],
   "source": [
    "# Build a glm model with variable ir_cat as a predictor\n",
    "log_model_cat <- glm(loan_status ~ ir_cat, family = \"binomial\", data = training_set)"
   ]
  },
  {
   "cell_type": "code",
   "execution_count": 33,
   "metadata": {},
   "outputs": [
    {
     "data": {
      "text/plain": [
       "\n",
       "Call:\n",
       "glm(formula = loan_status ~ ir_cat, family = \"binomial\", data = training_set)\n",
       "\n",
       "Deviance Residuals: \n",
       "    Min       1Q   Median       3Q      Max  \n",
       "-0.6298  -0.5401  -0.4390  -0.3382   2.4040  \n",
       "\n",
       "Coefficients:\n",
       "              Estimate Std. Error z value Pr(>|z|)    \n",
       "(Intercept)   -2.83233    0.06321 -44.808  < 2e-16 ***\n",
       "ir_cat11-13.5  0.98082    0.07641  12.837  < 2e-16 ***\n",
       "ir_cat13.5+    1.31523    0.07541  17.441  < 2e-16 ***\n",
       "ir_cat8-11     0.54145    0.08312   6.514 7.31e-11 ***\n",
       "ir_catMissing  0.69404    0.09819   7.068 1.57e-12 ***\n",
       "---\n",
       "Signif. codes:  0 ‘***’ 0.001 ‘**’ 0.01 ‘*’ 0.05 ‘.’ 0.1 ‘ ’ 1\n",
       "\n",
       "(Dispersion parameter for binomial family taken to be 1)\n",
       "\n",
       "    Null deviance: 13676  on 19393  degrees of freedom\n",
       "Residual deviance: 13289  on 19389  degrees of freedom\n",
       "AIC: 13299\n",
       "\n",
       "Number of Fisher Scoring iterations: 5\n"
      ]
     },
     "metadata": {},
     "output_type": "display_data"
    }
   ],
   "source": [
    "# Print the parameter estimates \n",
    "summary(log_model_cat)"
   ]
  },
  {
   "cell_type": "code",
   "execution_count": 34,
   "metadata": {},
   "outputs": [
    {
     "data": {
      "text/plain": [
       "\n",
       "    0-8 11-13.5   13.5+    8-11 Missing \n",
       "   7130    6953    6002    6230    2776 "
      ]
     },
     "metadata": {},
     "output_type": "display_data"
    }
   ],
   "source": [
    "# Look at the different categories in ir_cat using table()\n",
    "table(loan_data$ir_cat)"
   ]
  },
  {
   "cell_type": "code",
   "execution_count": 35,
   "metadata": {},
   "outputs": [],
   "source": [
    "# Build the logistic regression model\n",
    "log_model_multi = glm(loan_status ~ age + ir_cat + grade + loan_amnt + annual_inc, family = \"binomial\", data = training_set)"
   ]
  },
  {
   "cell_type": "code",
   "execution_count": 36,
   "metadata": {},
   "outputs": [
    {
     "data": {
      "text/plain": [
       "\n",
       "Call:\n",
       "glm(formula = loan_status ~ age + ir_cat + grade + loan_amnt + \n",
       "    annual_inc, family = \"binomial\", data = training_set)\n",
       "\n",
       "Deviance Residuals: \n",
       "    Min       1Q   Median       3Q      Max  \n",
       "-1.1261  -0.5411  -0.4409  -0.3432   3.2309  \n",
       "\n",
       "Coefficients:\n",
       "                Estimate Std. Error z value Pr(>|z|)    \n",
       "(Intercept)   -2.300e+00  1.265e-01 -18.176  < 2e-16 ***\n",
       "age           -7.471e-03  3.872e-03  -1.930 0.053663 .  \n",
       "ir_cat11-13.5  6.103e-01  1.303e-01   4.682 2.83e-06 ***\n",
       "ir_cat13.5+    5.294e-01  1.451e-01   3.648 0.000264 ***\n",
       "ir_cat8-11     3.783e-01  1.156e-01   3.274 0.001062 ** \n",
       "ir_catMissing  3.531e-01  1.272e-01   2.776 0.005509 ** \n",
       "gradeB         2.186e-01  1.047e-01   2.087 0.036857 *  \n",
       "gradeC         5.306e-01  1.198e-01   4.429 9.45e-06 ***\n",
       "gradeD         8.783e-01  1.362e-01   6.448 1.14e-10 ***\n",
       "gradeE         9.993e-01  1.644e-01   6.077 1.22e-09 ***\n",
       "gradeF         1.416e+00  2.245e-01   6.306 2.87e-10 ***\n",
       "gradeG         1.979e+00  3.364e-01   5.883 4.03e-09 ***\n",
       "loan_amnt     -3.666e-06  4.110e-06  -0.892 0.372379    \n",
       "annual_inc    -4.808e-06  7.262e-07  -6.621 3.56e-11 ***\n",
       "---\n",
       "Signif. codes:  0 ‘***’ 0.001 ‘**’ 0.01 ‘*’ 0.05 ‘.’ 0.1 ‘ ’ 1\n",
       "\n",
       "(Dispersion parameter for binomial family taken to be 1)\n",
       "\n",
       "    Null deviance: 13676  on 19393  degrees of freedom\n",
       "Residual deviance: 13134  on 19380  degrees of freedom\n",
       "AIC: 13162\n",
       "\n",
       "Number of Fisher Scoring iterations: 5\n"
      ]
     },
     "metadata": {},
     "output_type": "display_data"
    }
   ],
   "source": [
    "# Obtain significance levels using summary()\n",
    "summary(log_model_multi)"
   ]
  },
  {
   "cell_type": "code",
   "execution_count": 124,
   "metadata": {},
   "outputs": [
    {
     "ename": "ERROR",
     "evalue": "Error in predict(log_model_small, newdata = test_set, type = \"response\"): object 'log_model_small' not found\n",
     "execution_count": 124,
     "output_type": "error",
     "traceback": [
      "Error in predict(log_model_small, newdata = test_set, type = \"response\"): object 'log_model_small' not found\nTraceback:\n",
      "1. predict(log_model_small, newdata = test_set, type = \"response\")"
     ]
    }
   ],
   "source": [
    "# Build the logistic regression model\n",
    "predictions_all_small <- predict(log_model_small, newdata = test_set, type = \"response\")"
   ]
  },
  {
   "cell_type": "code",
   "execution_count": 37,
   "metadata": {},
   "outputs": [],
   "source": [
    "log_model_full <- glm(loan_status ~ ., family = \"binomial\", data = training_set)"
   ]
  },
  {
   "cell_type": "code",
   "execution_count": 38,
   "metadata": {},
   "outputs": [],
   "source": [
    "predictions_all_full <- predict(log_model_full, newdata = test_set, type = \"response\")"
   ]
  },
  {
   "cell_type": "code",
   "execution_count": 39,
   "metadata": {},
   "outputs": [
    {
     "data": {
      "text/html": [
       "<ol class=list-inline>\n",
       "\t<li>8.36979714993454e-06</li>\n",
       "\t<li>0.514164000795802</li>\n",
       "</ol>\n"
      ],
      "text/latex": [
       "\\begin{enumerate*}\n",
       "\\item 8.36979714993454e-06\n",
       "\\item 0.514164000795802\n",
       "\\end{enumerate*}\n"
      ],
      "text/markdown": [
       "1. 8.36979714993454e-06\n",
       "2. 0.514164000795802\n",
       "\n",
       "\n"
      ],
      "text/plain": [
       "[1] 8.369797e-06 5.141640e-01"
      ]
     },
     "metadata": {},
     "output_type": "display_data"
    }
   ],
   "source": [
    "range(predictions_all_full)"
   ]
  },
  {
   "cell_type": "code",
   "execution_count": 41,
   "metadata": {},
   "outputs": [
    {
     "data": {
      "text/html": [
       "<dl class=dl-horizontal>\n",
       "\t<dt>1</dt>\n",
       "\t\t<dd>0</dd>\n",
       "\t<dt>2</dt>\n",
       "\t\t<dd>1</dd>\n",
       "\t<dt>3</dt>\n",
       "\t\t<dd>1</dd>\n",
       "\t<dt>4</dt>\n",
       "\t\t<dd>0</dd>\n",
       "\t<dt>5</dt>\n",
       "\t\t<dd>1</dd>\n",
       "\t<dt>8</dt>\n",
       "\t\t<dd>0</dd>\n",
       "</dl>\n"
      ],
      "text/latex": [
       "\\begin{description*}\n",
       "\\item[1] 0\n",
       "\\item[2] 1\n",
       "\\item[3] 1\n",
       "\\item[4] 0\n",
       "\\item[5] 1\n",
       "\\item[8] 0\n",
       "\\end{description*}\n"
      ],
      "text/markdown": [
       "1\n",
       ":   02\n",
       ":   13\n",
       ":   14\n",
       ":   05\n",
       ":   18\n",
       ":   0\n",
       "\n"
      ],
      "text/plain": [
       "1 2 3 4 5 8 \n",
       "0 1 1 0 1 0 "
      ]
     },
     "metadata": {},
     "output_type": "display_data"
    }
   ],
   "source": [
    "# Make a binary predictions-vector using a cut-off of 15%\n",
    "pred_cutoff_15 <- ifelse(predictions_all_full > 0.15, 1, 0)\n",
    "head(pred_cutoff_15)"
   ]
  },
  {
   "cell_type": "code",
   "execution_count": 42,
   "metadata": {},
   "outputs": [
    {
     "data": {
      "text/plain": [
       "   pred_cutoff_15\n",
       "       0    1\n",
       "  0 6745 1915\n",
       "  1  641  396"
      ]
     },
     "metadata": {},
     "output_type": "display_data"
    }
   ],
   "source": [
    "# Construct a confusion matrix\n",
    "table(test_set$loan_status, pred_cutoff_15)"
   ]
  },
  {
   "cell_type": "code",
   "execution_count": 43,
   "metadata": {},
   "outputs": [],
   "source": [
    "# Fit the logit, probit and cloglog-link logistic regression models\n",
    "log_model_logit <- glm(loan_status ~ age + emp_cat + ir_cat + loan_amnt,\n",
    "                       family = binomial(link = logit), data = training_set)\n",
    "log_model_probit <- glm(loan_status ~ age + emp_cat + ir_cat + loan_amnt,\n",
    "                       family = binomial(link = probit), data = training_set)\n",
    "\n",
    "log_model_cloglog <-  glm(loan_status ~ age + emp_cat + ir_cat + loan_amnt,\n",
    "                       family = binomial(link = cloglog), data = training_set)"
   ]
  },
  {
   "cell_type": "code",
   "execution_count": 44,
   "metadata": {},
   "outputs": [],
   "source": [
    "# Make predictions for all models using the test set\n",
    "predictions_logit <- predict(log_model_logit, newdata = test_set, type = \"response\")\n",
    "predictions_probit <- predict(log_model_probit, newdata = test_set, type = \"response\")\n",
    "predictions_cloglog <- predict(log_model_cloglog, newdata = test_set, type = \"response\")"
   ]
  },
  {
   "cell_type": "code",
   "execution_count": 45,
   "metadata": {},
   "outputs": [],
   "source": [
    "# Use a cut-off of 14% to make binary predictions-vectors\n",
    "cutoff <- 0.14\n",
    "class_pred_logit <- ifelse(predictions_logit > cutoff, 1, 0)\n",
    "class_pred_probit <- ifelse(predictions_probit > cutoff, 1, 0)\n",
    "class_pred_cloglog <- ifelse(predictions_cloglog > cutoff, 1, 0)"
   ]
  },
  {
   "cell_type": "code",
   "execution_count": 46,
   "metadata": {},
   "outputs": [
    {
     "ename": "ERROR",
     "evalue": "Error in table(true_val, class_pred_logit): object 'true_val' not found\n",
     "execution_count": 46,
     "output_type": "error",
     "traceback": [
      "Error in table(true_val, class_pred_logit): object 'true_val' not found\nTraceback:\n",
      "1. table(true_val, class_pred_logit)"
     ]
    }
   ],
   "source": [
    "### TRUE_VAL is missing\n",
    "# Make a confusion matrix for the three models\n",
    "tab_class_logit <- table(true_val,class_pred_logit)\n",
    "tab_class_probit <- table(true_val,class_pred_probit)\n",
    "tab_class_cloglog <- table(true_val,class_pred_cloglog)"
   ]
  },
  {
   "cell_type": "code",
   "execution_count": 47,
   "metadata": {},
   "outputs": [],
   "source": [
    "# Load package rpart in your workspace.\n",
    "library(rpart)"
   ]
  },
  {
   "cell_type": "code",
   "execution_count": 49,
   "metadata": {},
   "outputs": [],
   "source": [
    "# Change the code provided in the video such that a decision tree is constructed using the undersampled training set. Include rpart.control to relax the complexity parameter to 0.001.\n",
    "# tree_undersample <- rpart(loan_status ~ ., method = \"class\",\n",
    "#                           data =  undersampled_training_set,\n",
    "#                           control = rpart.control(cp = 0.001))"
   ]
  },
  {
   "cell_type": "code",
   "execution_count": 50,
   "metadata": {},
   "outputs": [
    {
     "ename": "ERROR",
     "evalue": "Error in plot(tree_undersample, uniform = TRUE): object 'tree_undersample' not found\n",
     "execution_count": 50,
     "output_type": "error",
     "traceback": [
      "Error in plot(tree_undersample, uniform = TRUE): object 'tree_undersample' not found\nTraceback:\n",
      "1. plot(tree_undersample, uniform = TRUE)"
     ]
    }
   ],
   "source": [
    "# Plot the decision tree\n",
    "plot(tree_undersample, uniform = TRUE)"
   ]
  },
  {
   "cell_type": "code",
   "execution_count": 51,
   "metadata": {},
   "outputs": [
    {
     "ename": "ERROR",
     "evalue": "Error in text(tree_undersample): object 'tree_undersample' not found\n",
     "execution_count": 51,
     "output_type": "error",
     "traceback": [
      "Error in text(tree_undersample): object 'tree_undersample' not found\nTraceback:\n",
      "1. text(tree_undersample)"
     ]
    }
   ],
   "source": [
    "# Add labels to the decision tree\n",
    "text(tree_undersample)"
   ]
  },
  {
   "cell_type": "code",
   "execution_count": 52,
   "metadata": {},
   "outputs": [],
   "source": [
    "# Change the code below such that a tree is constructed with adjusted prior probabilities.\n",
    "tree_prior <- rpart(loan_status ~ ., method = \"class\",\n",
    "                    data = training_set, parms = list(prior=c(0.7, 0.3)), control = rpart.control(cp = 0.001))"
   ]
  },
  {
   "cell_type": "code",
   "execution_count": 53,
   "metadata": {},
   "outputs": [
    {
     "data": {
      "image/png": "[encoded data removed]",
      "text/plain": [
       "plot without title"
      ]
     },
     "metadata": {},
     "output_type": "display_data",
     "source": "R display func"
    }
   ],
   "source": [
    "# Plot the decision tree\n",
    "plot(tree_prior, uniform = TRUE)\n",
    "\n",
    "# Add labels to the decision tree\n",
    "text(tree_prior)"
   ]
  },
  {
   "cell_type": "code",
   "execution_count": 54,
   "metadata": {},
   "outputs": [],
   "source": [
    "tree_loss_matrix <- rpart(loan_status ~ ., method = \"class\",\n",
    "                          data =  training_set, parms = list(loss = matrix(c(0, 10, 1, 0), ncol=2)), control = rpart.control(cp = 0.001))"
   ]
  },
  {
   "cell_type": "code",
   "execution_count": 55,
   "metadata": {},
   "outputs": [
    {
     "data": {
      "image/png": "[encoded data removed]",
      "text/plain": [
       "plot without title"
      ]
     },
     "metadata": {},
     "output_type": "display_data",
     "source": "R display func"
    }
   ],
   "source": [
    "# Plot the decision tree\n",
    "plot(tree_loss_matrix, uniform = TRUE)\n",
    "\n",
    "# Add labels to the decision tree\n",
    "text(tree_loss_matrix)\n"
   ]
  },
  {
   "cell_type": "code",
   "execution_count": 56,
   "metadata": {},
   "outputs": [
    {
     "data": {
      "image/png": "[encoded data removed]",
      "text/plain": [
       "plot without title"
      ]
     },
     "metadata": {},
     "output_type": "display_data",
     "source": "R display func"
    }
   ],
   "source": [
    "# tree_prior is loaded in your workspace\n",
    "\n",
    "# Plot the cross-validated error rate as a function of the complexity parameter\n",
    "plotcp(tree_prior)"
   ]
  },
  {
   "cell_type": "code",
   "execution_count": 57,
   "metadata": {},
   "outputs": [
    {
     "name": "stdout",
     "output_type": "stream",
     "text": [
      "\n",
      "Classification tree:\n",
      "rpart(formula = loan_status ~ ., data = training_set, method = \"class\", \n",
      "    parms = list(prior = c(0.7, 0.3)), control = rpart.control(cp = 0.001))\n",
      "\n",
      "Variables actually used in tree construction:\n",
      "[1] age            annual_inc     emp_cat        grade          home_ownership\n",
      "[6] ir_cat         loan_amnt     \n",
      "\n",
      "Root node error: 5818.2/19394 = 0.3\n",
      "\n",
      "n= 19394 \n",
      "\n",
      "          CP nsplit rel error  xerror     xstd\n",
      "1  0.0046850      0   1.00000 1.00000 0.020126\n",
      "2  0.0043855      4   0.98126 0.99598 0.019726\n",
      "3  0.0042545      5   0.97687 0.99663 0.019663\n",
      "4  0.0032463      6   0.97262 0.99413 0.019504\n",
      "5  0.0016595      9   0.96288 0.98623 0.019350\n",
      "6  0.0014514     13   0.95424 0.98639 0.019217\n",
      "7  0.0013609     14   0.95279 0.98867 0.019280\n",
      "8  0.0013065     15   0.95142 0.98815 0.019260\n",
      "9  0.0012886     17   0.94881 0.98782 0.019245\n",
      "10 0.0012298     25   0.93711 0.98917 0.019276\n",
      "11 0.0011755     27   0.93465 0.99272 0.019302\n",
      "12 0.0011377     28   0.93348 0.99338 0.019250\n",
      "13 0.0011122     33   0.92754 0.99547 0.019225\n",
      "14 0.0011122     34   0.92643 0.99512 0.019228\n",
      "15 0.0010353     40   0.91925 0.99778 0.019227\n",
      "16 0.0010000     41   0.91822 1.00057 0.019183\n"
     ]
    }
   ],
   "source": [
    "# Use printcp() to identify for which complexity parameter the cross-validated error rate is minimized.\n",
    "printcp(tree_prior)"
   ]
  },
  {
   "cell_type": "code",
   "execution_count": 58,
   "metadata": {},
   "outputs": [],
   "source": [
    "# Create an index for of the row with the minimum xerror\n",
    "index <- which.min(tree_prior$cptable[ , \"xerror\"])"
   ]
  },
  {
   "cell_type": "code",
   "execution_count": 59,
   "metadata": {},
   "outputs": [],
   "source": [
    "# Create tree_min\n",
    "tree_min <- tree_prior$cptable[index, \"CP\"]\n",
    "\n",
    "#  Prune the tree using tree_min\n",
    "ptree_prior <- prune(tree_prior, cp = tree_min)"
   ]
  },
  {
   "cell_type": "code",
   "execution_count": 60,
   "metadata": {},
   "outputs": [
    {
     "ename": "ERROR",
     "evalue": "Error in prp(ptree_prior): could not find function \"prp\"\n",
     "execution_count": 60,
     "output_type": "error",
     "traceback": [
      "Error in prp(ptree_prior): could not find function \"prp\"\nTraceback:\n"
     ]
    }
   ],
   "source": [
    "# Use prp() to plot the pruned tree\n",
    "prp(ptree_prior)"
   ]
  },
  {
   "cell_type": "code",
   "execution_count": 61,
   "metadata": {},
   "outputs": [],
   "source": [
    "# set a seed and run the code to construct the tree with the loss matrix again\n",
    "set.seed(345)\n",
    "tree_loss_matrix  <- rpart(loan_status ~ ., method = \"class\", data = training_set,\n",
    "                           parms = list(loss=matrix(c(0, 10, 1, 0), ncol = 2)),\n",
    "                           control = rpart.control(cp = 0.001))"
   ]
  },
  {
   "cell_type": "code",
   "execution_count": 62,
   "metadata": {},
   "outputs": [
    {
     "data": {
      "image/png": "[encoded data removed]",
      "text/plain": [
       "plot without title"
      ]
     },
     "metadata": {},
     "output_type": "display_data",
     "source": "R display func"
    }
   ],
   "source": [
    "# Plot the cross-validated error rate as a function of the complexity parameter\n",
    "plotcp(tree_loss_matrix)"
   ]
  },
  {
   "cell_type": "code",
   "execution_count": 63,
   "metadata": {},
   "outputs": [],
   "source": [
    "# Prune the tree using cp = 0.0012788\n",
    "ptree_loss_matrix <- prune(tree_loss_matrix, cp = 0.0012788)"
   ]
  },
  {
   "cell_type": "code",
   "execution_count": 64,
   "metadata": {},
   "outputs": [
    {
     "ename": "ERROR",
     "evalue": "Error in prp(ptree_loss_matrix, extra = 1): could not find function \"prp\"\n",
     "execution_count": 64,
     "output_type": "error",
     "traceback": [
      "Error in prp(ptree_loss_matrix, extra = 1): could not find function \"prp\"\nTraceback:\n"
     ]
    }
   ],
   "source": [
    "# Use prp() and argument extra = 1 to plot the pruned tree\n",
    "prp(ptree_loss_matrix, extra = 1)"
   ]
  },
  {
   "cell_type": "code",
   "execution_count": 66,
   "metadata": {},
   "outputs": [],
   "source": [
    "# set a seed and run the code to obtain a tree using weights, minsplit and minbucket\n",
    "# set.seed(345)\n",
    "# tree_weights <- rpart(loan_status ~ ., method = \"class\",\n",
    "#                       data = training_set,\n",
    "#                       control = rpart.control(minsplit = 5, minbucket = 2, cp = 0.001), weights = case_weights)"
   ]
  },
  {
   "cell_type": "code",
   "execution_count": 67,
   "metadata": {},
   "outputs": [
    {
     "ename": "ERROR",
     "evalue": "Error in plotcp(tree_weights): object 'tree_weights' not found\n",
     "execution_count": 67,
     "output_type": "error",
     "traceback": [
      "Error in plotcp(tree_weights): object 'tree_weights' not found\nTraceback:\n",
      "1. plotcp(tree_weights)"
     ]
    }
   ],
   "source": [
    "# Plot the cross-validated error rate for a changing cp\n",
    "plotcp(tree_weights)"
   ]
  },
  {
   "cell_type": "code",
   "execution_count": 68,
   "metadata": {},
   "outputs": [
    {
     "ename": "ERROR",
     "evalue": "Error in which.min(tree_weights$cptable[, \"xerror\"]): object 'tree_weights' not found\n",
     "execution_count": 68,
     "output_type": "error",
     "traceback": [
      "Error in which.min(tree_weights$cptable[, \"xerror\"]): object 'tree_weights' not found\nTraceback:\n",
      "1. which.min(tree_weights$cptable[, \"xerror\"])"
     ]
    }
   ],
   "source": [
    "# Create an index for of the row with the minimum xerror\n",
    "index <- which.min(tree_weights$cptable[ , \"xerror\"])"
   ]
  },
  {
   "cell_type": "code",
   "execution_count": 69,
   "metadata": {},
   "outputs": [
    {
     "ename": "ERROR",
     "evalue": "Error in eval(expr, envir, enclos): object 'tree_weights' not found\n",
     "execution_count": 69,
     "output_type": "error",
     "traceback": [
      "Error in eval(expr, envir, enclos): object 'tree_weights' not found\nTraceback:\n"
     ]
    }
   ],
   "source": [
    "# Create tree_min\n",
    "tree_min <- tree_weights$cp[index, \"CP\"]"
   ]
  },
  {
   "cell_type": "code",
   "execution_count": 70,
   "metadata": {},
   "outputs": [
    {
     "ename": "ERROR",
     "evalue": "Error in prune(tree_weights, cp = tree_min): object 'tree_weights' not found\n",
     "execution_count": 70,
     "output_type": "error",
     "traceback": [
      "Error in prune(tree_weights, cp = tree_min): object 'tree_weights' not found\nTraceback:\n",
      "1. prune(tree_weights, cp = tree_min)"
     ]
    }
   ],
   "source": [
    "# Prune the tree using tree_min\n",
    "ptree_weights <- prune(tree_weights, cp = tree_min)"
   ]
  },
  {
   "cell_type": "code",
   "execution_count": 71,
   "metadata": {},
   "outputs": [
    {
     "ename": "ERROR",
     "evalue": "Error in prp(ptree_weights, extra = 1): could not find function \"prp\"\n",
     "execution_count": 71,
     "output_type": "error",
     "traceback": [
      "Error in prp(ptree_weights, extra = 1): could not find function \"prp\"\nTraceback:\n"
     ]
    }
   ],
   "source": [
    "# Plot the pruned tree using the rpart.plot()-package\n",
    "prp(ptree_weights, extra = 1)"
   ]
  },
  {
   "cell_type": "code",
   "execution_count": 72,
   "metadata": {},
   "outputs": [
    {
     "ename": "ERROR",
     "evalue": "Error in predict(ptree_undersample, newdata = test_set, type = \"class\"): object 'ptree_undersample' not found\n",
     "execution_count": 72,
     "output_type": "error",
     "traceback": [
      "Error in predict(ptree_undersample, newdata = test_set, type = \"class\"): object 'ptree_undersample' not found\nTraceback:\n",
      "1. predict(ptree_undersample, newdata = test_set, type = \"class\")"
     ]
    }
   ],
   "source": [
    "# Make predictions for each of the pruned trees using the test set.\n",
    "pred_undersample <- predict(ptree_undersample, newdata = test_set,  type = \"class\")\n",
    "pred_prior <- predict(ptree_prior , newdata = test_set,  type = \"class\")\n",
    "pred_loss_matrix <- predict(ptree_loss_matrix , newdata = test_set,  type = \"class\")\n",
    "pred_weights <- predict(ptree_weights , newdata = test_set,  type = \"class\")"
   ]
  },
  {
   "cell_type": "code",
   "execution_count": 73,
   "metadata": {},
   "outputs": [
    {
     "ename": "ERROR",
     "evalue": "Error in table(test_set$loan_status, pred_undersample): object 'pred_undersample' not found\n",
     "execution_count": 73,
     "output_type": "error",
     "traceback": [
      "Error in table(test_set$loan_status, pred_undersample): object 'pred_undersample' not found\nTraceback:\n",
      "1. table(test_set$loan_status, pred_undersample)"
     ]
    }
   ],
   "source": [
    "# construct confusion matrices using the predictions.\n",
    "confmat_undersample <- table(test_set$loan_status, pred_undersample)\n",
    "confmat_prior <- table(test_set$loan_status, pred_prior)\n",
    "confmat_loss_matrix <- table(test_set$loan_status, pred_loss_matrix)\n",
    "confmat_weights <- table(test_set$loan_status, pred_weights)"
   ]
  },
  {
   "cell_type": "code",
   "execution_count": 74,
   "metadata": {},
   "outputs": [
    {
     "ename": "ERROR",
     "evalue": "Error in diag(confmat_undersample): object 'confmat_undersample' not found\n",
     "execution_count": 74,
     "output_type": "error",
     "traceback": [
      "Error in diag(confmat_undersample): object 'confmat_undersample' not found\nTraceback:\n",
      "1. diag(confmat_undersample)"
     ]
    }
   ],
   "source": [
    "# Compute the accuracies\n",
    "acc_undersample <- sum(diag(confmat_undersample)) / nrow(test_set)\n",
    "acc_prior <- sum(diag(confmat_prior)) / nrow(test_set)\n",
    "acc_loss_matrix <- sum(diag(confmat_loss_matrix)) / nrow(test_set)\n",
    "acc_weights <- sum(diag(confmat_weights)) / nrow(test_set)"
   ]
  },
  {
   "cell_type": "code",
   "execution_count": 75,
   "metadata": {},
   "outputs": [],
   "source": [
    "# Make predictions for the probability of default using the pruned tree and the test set.\n",
    "prob_default_prior <- predict(ptree_prior, newdata = test_set)[ ,2]"
   ]
  },
  {
   "cell_type": "code",
   "execution_count": 76,
   "metadata": {},
   "outputs": [],
   "source": [
    "# Obtain the cutoff for acceptance rate 80%\n",
    "cutoff_prior <- quantile(prob_default_prior, 0.8) "
   ]
  },
  {
   "cell_type": "code",
   "execution_count": 77,
   "metadata": {},
   "outputs": [],
   "source": [
    "# Obtain the binary predictions.\n",
    "bin_pred_prior_80 <- ifelse(prob_default_prior > cutoff_prior, 1, 0)"
   ]
  },
  {
   "cell_type": "code",
   "execution_count": 78,
   "metadata": {},
   "outputs": [],
   "source": [
    "# Obtain the actual default status for the accepted loans\n",
    "accepted_status_prior_80 <- test_set$loan_status[bin_pred_prior_80 == 0]"
   ]
  },
  {
   "cell_type": "code",
   "execution_count": 79,
   "metadata": {},
   "outputs": [
    {
     "name": "stdout",
     "output_type": "stream",
     "text": [
      "[1] 0.09228461\n"
     ]
    }
   ],
   "source": [
    "# Obtain the bad rate for the accepted loans\n",
    "print(sum(accepted_status_prior_80)/length(accepted_status_prior_80))"
   ]
  },
  {
   "cell_type": "code",
   "execution_count": 80,
   "metadata": {},
   "outputs": [
    {
     "ename": "ERROR",
     "evalue": "Error in strategy_bank(predictions_cloglog): could not find function \"strategy_bank\"\n",
     "execution_count": 80,
     "output_type": "error",
     "traceback": [
      "Error in strategy_bank(predictions_cloglog): could not find function \"strategy_bank\"\nTraceback:\n"
     ]
    }
   ],
   "source": [
    "# Apply the function strategy_bank to both predictions_cloglog and predictions_loss_matrix\n",
    "strategy_cloglog <- strategy_bank(predictions_cloglog)\n",
    "strategy_loss_matrix <- strategy_bank(predictions_loss_matrix)"
   ]
  },
  {
   "cell_type": "code",
   "execution_count": 81,
   "metadata": {},
   "outputs": [
    {
     "ename": "ERROR",
     "evalue": "Error in eval(expr, envir, enclos): object 'strategy_cloglog' not found\n",
     "execution_count": 81,
     "output_type": "error",
     "traceback": [
      "Error in eval(expr, envir, enclos): object 'strategy_cloglog' not found\nTraceback:\n"
     ]
    }
   ],
   "source": [
    "# Obtain the strategy tables for both prediction-vectors\n",
    "strategy_cloglog$table\n",
    "strategy_loss_matrix$table"
   ]
  },
  {
   "cell_type": "code",
   "execution_count": 82,
   "metadata": {},
   "outputs": [
    {
     "ename": "ERROR",
     "evalue": "Error in plot(strategy_cloglog$accept_rate, strategy_cloglog$bad_rate, : object 'strategy_cloglog' not found\n",
     "execution_count": 82,
     "output_type": "error",
     "traceback": [
      "Error in plot(strategy_cloglog$accept_rate, strategy_cloglog$bad_rate, : object 'strategy_cloglog' not found\nTraceback:\n",
      "1. plot(strategy_cloglog$accept_rate, strategy_cloglog$bad_rate, \n .     type = \"l\", xlab = \"Acceptance rate\", ylab = \"Bad rate\", \n .     lwd = 2, main = \"logistic regression\")"
     ]
    }
   ],
   "source": [
    "# Plot the strategy functions\n",
    "par(mfrow = c(1,2))\n",
    "plot(strategy_cloglog$accept_rate, strategy_cloglog$bad_rate, \n",
    "     type = \"l\", xlab = \"Acceptance rate\", ylab = \"Bad rate\", \n",
    "     lwd = 2, main = \"logistic regression\")"
   ]
  },
  {
   "cell_type": "code",
   "execution_count": 83,
   "metadata": {},
   "outputs": [
    {
     "ename": "ERROR",
     "evalue": "Error in plot(strategy_loss_matrix$accept_rate, strategy_loss_matrix$bad_rate, : object 'strategy_loss_matrix' not found\n",
     "execution_count": 83,
     "output_type": "error",
     "traceback": [
      "Error in plot(strategy_loss_matrix$accept_rate, strategy_loss_matrix$bad_rate, : object 'strategy_loss_matrix' not found\nTraceback:\n",
      "1. plot(strategy_loss_matrix$accept_rate, strategy_loss_matrix$bad_rate, \n .     type = \"l\", xlab = \"Acceptance rate\", ylab = \"Bad rate\", \n .     lwd = 2, main = \"tree\")"
     ]
    }
   ],
   "source": [
    "plot(strategy_loss_matrix$accept_rate, strategy_loss_matrix$bad_rate, \n",
    "     type = \"l\", xlab = \"Acceptance rate\", \n",
    "     ylab = \"Bad rate\", lwd = 2, main = \"tree\")"
   ]
  },
  {
   "cell_type": "code",
   "execution_count": 85,
   "metadata": {},
   "outputs": [],
   "source": [
    "strategy_bank <- function(prob_of_def){\n",
    "cutoff=rep(NA, 21)\n",
    "bad_rate=rep(NA, 21)\n",
    "accept_rate=seq(1,0,by=-0.05)\n",
    "for (i in 1:21){\n",
    "  cutoff[i]=quantile(prob_of_def,accept_rate[i])\n",
    "  pred_i=ifelse(prob_of_def> cutoff[i], 1, 0)\n",
    "  pred_as_good=test_set$loan_status[pred_i==0]\n",
    "  bad_rate[i]=sum(pred_as_good)/length(pred_as_good)}\n",
    "table=cbind(accept_rate,cutoff=round(cutoff,4),bad_rate=round(bad_rate,4))\n",
    "return(list(table=table,bad_rate=bad_rate, accept_rate=accept_rate, cutoff=cutoff))\n",
    "}"
   ]
  },
  {
   "cell_type": "code",
   "execution_count": 86,
   "metadata": {},
   "outputs": [
    {
     "ename": "ERROR",
     "evalue": "Error in library(pROC): there is no package called ‘pROC’\n",
     "execution_count": 86,
     "output_type": "error",
     "traceback": [
      "Error in library(pROC): there is no package called ‘pROC’\nTraceback:\n",
      "1. library(pROC)",
      "2. stop(txt, domain = NA)"
     ]
    }
   ],
   "source": [
    "# Load the pROC-package\n",
    "library(pROC)\n",
    "\n",
    "# Construct the objects containing ROC-information\n",
    "ROC_logit <- roc(test_set$loan_status, predictions_logit)\n",
    "ROC_probit <- roc(test_set$loan_status, predictions_probit)\n",
    "ROC_cloglog <- roc(test_set$loan_status, predictions_cloglog)\n",
    "ROC_all_full <- roc(test_set$loan_status, predictions_all_full)\n"
   ]
  },
  {
   "cell_type": "code",
   "execution_count": 87,
   "metadata": {},
   "outputs": [
    {
     "ename": "ERROR",
     "evalue": "Error in plot(ROC_logit): object 'ROC_logit' not found\n",
     "execution_count": 87,
     "output_type": "error",
     "traceback": [
      "Error in plot(ROC_logit): object 'ROC_logit' not found\nTraceback:\n",
      "1. plot(ROC_logit)"
     ]
    }
   ],
   "source": [
    "# Draw all ROCs on one plot\n",
    "plot(ROC_logit)\n",
    "lines(ROC_probit, col=\"blue\")\n",
    "lines(ROC_cloglog, col=\"red\")\n",
    "lines(ROC_all_full, col=\"green\")"
   ]
  },
  {
   "cell_type": "code",
   "execution_count": 88,
   "metadata": {},
   "outputs": [
    {
     "ename": "ERROR",
     "evalue": "Error in auc(ROC_logit): could not find function \"auc\"\n",
     "execution_count": 88,
     "output_type": "error",
     "traceback": [
      "Error in auc(ROC_logit): could not find function \"auc\"\nTraceback:\n"
     ]
    }
   ],
   "source": [
    "# Compute the AUCs\n",
    "auc(ROC_logit)\n",
    "auc(ROC_probit)\n",
    "auc(ROC_cloglog)\n",
    "auc(ROC_all_full)"
   ]
  },
  {
   "cell_type": "code",
   "execution_count": 89,
   "metadata": {},
   "outputs": [
    {
     "ename": "ERROR",
     "evalue": "Error in roc(test_set$loan_status, predictions_undersample): could not find function \"roc\"\n",
     "execution_count": 89,
     "output_type": "error",
     "traceback": [
      "Error in roc(test_set$loan_status, predictions_undersample): could not find function \"roc\"\nTraceback:\n"
     ]
    }
   ],
   "source": [
    "# Construct the objects containing ROC-information\n",
    "ROC_undersample <- roc(test_set$loan_status, predictions_undersample)\n",
    "ROC_prior <- roc(test_set$loan_status, predictions_prior)\n",
    "ROC_loss_matrix <- roc(test_set$loan_status, predictions_loss_matrix)\n",
    "ROC_weights <- roc(test_set$loan_status, predictions_weights)"
   ]
  },
  {
   "cell_type": "code",
   "execution_count": 90,
   "metadata": {},
   "outputs": [
    {
     "ename": "ERROR",
     "evalue": "Error in plot(ROC_undersample): object 'ROC_undersample' not found\n",
     "execution_count": 90,
     "output_type": "error",
     "traceback": [
      "Error in plot(ROC_undersample): object 'ROC_undersample' not found\nTraceback:\n",
      "1. plot(ROC_undersample)"
     ]
    }
   ],
   "source": [
    "# Draw the ROC-curves in one plot\n",
    "plot(ROC_undersample)\n",
    "lines(ROC_prior, col = \"blue\")\n",
    "lines(ROC_loss_matrix, col = \"red\")\n",
    "lines(ROC_weights, col = \"green\")"
   ]
  },
  {
   "cell_type": "code",
   "execution_count": 91,
   "metadata": {},
   "outputs": [
    {
     "ename": "ERROR",
     "evalue": "Error in auc(ROC_undersample): could not find function \"auc\"\n",
     "execution_count": 91,
     "output_type": "error",
     "traceback": [
      "Error in auc(ROC_undersample): could not find function \"auc\"\nTraceback:\n"
     ]
    }
   ],
   "source": [
    "# Compute the AUCs\n",
    "auc(ROC_undersample)\n",
    "auc(ROC_prior)\n",
    "auc(ROC_loss_matrix)\n",
    "auc(ROC_weights)"
   ]
  },
  {
   "cell_type": "code",
   "execution_count": 92,
   "metadata": {},
   "outputs": [],
   "source": [
    "# Build four models each time deleting one variable in log_3_remove_ir\n",
    "log_4_remove_amnt <- glm(loan_status ~ grade + annual_inc + emp_cat, \n",
    "                        family = binomial, data = training_set) \n",
    "log_4_remove_grade <- glm(loan_status ~ loan_amnt + annual_inc + emp_cat, \n",
    "                        family = binomial, data = training_set) \n",
    "log_4_remove_inc <- glm(loan_status ~ grade + loan_amnt + emp_cat, \n",
    "                        family = binomial, data = training_set) \n",
    "log_4_remove_emp <- glm(loan_status ~ grade + annual_inc + loan_amnt, \n",
    "                        family = binomial, data = training_set) "
   ]
  },
  {
   "cell_type": "code",
   "execution_count": 93,
   "metadata": {},
   "outputs": [],
   "source": [
    "# Make PD-predictions for each of the models\n",
    "pred_4_remove_amnt <- predict(log_4_remove_amnt, newdata = test_set, type = \"response\")\n",
    "pred_4_remove_grade <- predict(log_4_remove_grade, newdata = test_set, type = \"response\")\n",
    "pred_4_remove_inc <- predict(log_4_remove_inc, newdata = test_set, type = \"response\")\n",
    "pred_4_remove_emp <- predict(log_4_remove_emp, newdata = test_set, type = \"response\")"
   ]
  },
  {
   "cell_type": "code",
   "execution_count": 94,
   "metadata": {},
   "outputs": [
    {
     "ename": "ERROR",
     "evalue": "Error in auc(test_set$loan_status, pred_4_remove_amnt): could not find function \"auc\"\n",
     "execution_count": 94,
     "output_type": "error",
     "traceback": [
      "Error in auc(test_set$loan_status, pred_4_remove_amnt): could not find function \"auc\"\nTraceback:\n"
     ]
    }
   ],
   "source": [
    "# Compute the AUCs\n",
    "auc(test_set$loan_status, pred_4_remove_amnt)\n",
    "auc(test_set$loan_status, pred_4_remove_grade)\n",
    "auc(test_set$loan_status, pred_4_remove_inc)\n",
    "auc(test_set$loan_status, pred_4_remove_emp)"
   ]
  },
  {
   "cell_type": "code",
   "execution_count": 95,
   "metadata": {},
   "outputs": [],
   "source": [
    "log_4_remove_amnt <- glm(loan_status ~ grade + annual_inc + emp_cat, family = binomial, data = training_set) "
   ]
  },
  {
   "cell_type": "code",
   "execution_count": 96,
   "metadata": {},
   "outputs": [],
   "source": [
    "# Build three models each time deleting one variable in log_4_remove_amnt\n",
    "log_5_remove_grade <- glm(loan_status ~ annual_inc + emp_cat, family = binomial, data = training_set) \n",
    "log_5_remove_inc <- glm(loan_status ~ grade + emp_cat, family = binomial, data = training_set)\n",
    "log_5_remove_emp <- glm(loan_status ~ annual_inc + grade, family = binomial, data = training_set)"
   ]
  },
  {
   "cell_type": "code",
   "execution_count": 97,
   "metadata": {},
   "outputs": [],
   "source": [
    "# Make PD-predictions for each of the models\n",
    "pred_5_remove_grade <- predict(log_5_remove_grade, newdata = test_set, type = \"response\")\n",
    "pred_5_remove_inc <- predict(log_5_remove_inc, newdata = test_set, type = \"response\")\n",
    "pred_5_remove_emp <- predict(log_5_remove_emp, newdata = test_set, type = \"response\")"
   ]
  },
  {
   "cell_type": "code",
   "execution_count": 98,
   "metadata": {},
   "outputs": [
    {
     "ename": "ERROR",
     "evalue": "Error in auc(test_set$loan_status, pred_5_remove_grade): could not find function \"auc\"\n",
     "execution_count": 98,
     "output_type": "error",
     "traceback": [
      "Error in auc(test_set$loan_status, pred_5_remove_grade): could not find function \"auc\"\nTraceback:\n"
     ]
    }
   ],
   "source": [
    "# Compute the AUCs\n",
    "auc(test_set$loan_status, pred_5_remove_grade)\n",
    "auc(test_set$loan_status, pred_5_remove_inc)\n",
    "auc(test_set$loan_status, pred_5_remove_emp)"
   ]
  },
  {
   "cell_type": "code",
   "execution_count": 99,
   "metadata": {},
   "outputs": [
    {
     "ename": "ERROR",
     "evalue": "Error in roc(test_set$loan_status, pred_4_remove_amnt): could not find function \"roc\"\n",
     "execution_count": 99,
     "output_type": "error",
     "traceback": [
      "Error in roc(test_set$loan_status, pred_4_remove_amnt): could not find function \"roc\"\nTraceback:\n",
      "1. plot(roc(test_set$loan_status, pred_4_remove_amnt))"
     ]
    }
   ],
   "source": [
    "# Plot the ROC-curve for the best model here\n",
    "plot(roc(test_set$loan_status, pred_4_remove_amnt))"
   ]
  },
  {
   "cell_type": "code",
   "execution_count": null,
   "metadata": {},
   "outputs": [],
   "source": []
  }
 ],
 "metadata": {
  "kernelspec": {
   "display_name": "R",
   "language": "R",
   "name": "ir"
  },
  "language_info": {
   "codemirror_mode": "r",
   "file_extension": ".r",
   "mimetype": "text/x-r-source",
   "name": "R",
   "pygments_lexer": "r",
   "version": "3.4.3"
  }
 },
 "nbformat": 4,
 "nbformat_minor": 2
}
