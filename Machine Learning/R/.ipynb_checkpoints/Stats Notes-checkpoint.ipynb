{
 "cells": [
  {
   "cell_type": "code",
   "execution_count": 25,
   "metadata": {},
   "outputs": [],
   "source": [
    "options(repr.plot.width=5, repr.plot.height=4)"
   ]
  },
  {
   "cell_type": "markdown",
   "metadata": {},
   "source": [
    "<h2>How do I find out whether a die is fair?</h2>\n",
    "\n",
    "<p>Obviously, you need to <strong>roll it</strong>.  Preferably, you should do this the same way, on the same kind of table, as you'd use in a game; while truly fair dice should be fair on any surface, some types of bias may show up only on some surfaces.</p>\n",
    "\n",
    "<p>Keep rolling the same die several times, and count how many times each side comes up.  If you've got a friend to help you, you can have them tally up the rolls as you call them out, so you don't have to switch between rolling and marking the results all the time.  Once your arm gets tired of rolling dice, switch roles.</p>\n",
    "\n",
    "<h3>How many times do you need to roll?</h3>\n",
    "\n",
    "<p>For the type of statistical test described below (<a href=\"https://en.wikipedia.org/wiki/Pearson&#39;s_chi-squared_test\">Pearson's $\\chi^2$ test</a>), a common rule of thumb is to have at least <strong>five times as many</strong> rolls as there are sides on the die.  Thus, for a d20, you need <em>at least</em> 100 rolls for the test to be valid.  (There are <a href=\"https://en.wikipedia.org/wiki/Fisher&#39;s_exact_test\">other statistical tests</a> that can be used with fewer rolls, but they require slightly more complicated math.)  Obviously, more rolls won't hurt if you have the patience for it, and the more rolls you tally up, the better the test will detect subtle biases.</p>\n",
    "\n",
    "<p>(Note: If you've, say, bought a large bunch of cheap d6's for rolling large dice pools, it <em>can</em> be OK to just roll them all together and tally up the number of times each face comes up.  Sure, this way you won't detect if one of the dice is, say, slightly more likely to roll a 6, while another one is slightly <em>less</em> likely to roll it, but you'll still detect any <em>systematic</em> biases due to, say, all the dice being unsymmetrical the same way.)</p>\n",
    "\n",
    "<h3>OK, I've rolled the die 100 times.  Now what?</h3>\n",
    "\n",
    "<p>Now it's time to do some math.</p>\n",
    "\n",
    "<ol>\n",
    "<li><p>First, look up the tally of how many times each side came up.  Below, I'll call the number of times side 1 came up $n_1$, the number of times side 2 came up $n_2$, and so on up to $n_{20}$ for a d20.  I'll also use $N$ to denote the total number of rolls, i.e. $N = n_1 + n_2 + \\dots + n_{20}$.</p></li>\n",
    "<li><p>Next, calculate the <em>expected</em> number of times each side should have come up for a fair dice, i.e. the total number of rolls divided by the number of sides.<sup>1</sup>  (It's OK for this to be a fractional number.)  Call this number $n_{\\exp}$.  For example, for $N = 100$ rolls of a d20, $n_{\\exp} = \\frac{N}{20} = 5$.</p></li>\n",
    "<li><p>Now, for each side <em>k</em> (from 1 to 20, for a d20), calculate the <em>difference</em> between the actual and the expected count of times the side came up, square it (i.e. multiply it by itself), and divide it by the expected count.  That is, calculate:</p>\n",
    "\n",
    "<p>$$\\chi^2_k = \\frac{ \\left( n_k - n_{\\exp} \\right) ^2}{n_{\\exp}}$$</p>\n",
    "\n",
    "<p>for each possible number \\$k\\$ of your die (i.e. from \\$k = 1\\$ to \\$k = 20\\$, for a d20).<sup>2</sup></p></li>\n",
    "<li><p>Finally, add up all the results from the previous step to obtain the test statistic $$\\chi^2 = \\chi^2_1 + \\chi^2_2 + \\dots + \\chi^2_{20} = \\sum_{k=1}^{20} \\frac{ \\left( n_k - n_{\\exp} \\right) ^2}{n_{\\exp}}.$$</p></li>\n",
    "</ol>\n",
    "\n",
    "<h3>OK, I've got this $\\chi^2$ figure.  What do I do with it?</h3>\n",
    "\n",
    "<p>The $\\chi^2$ value you've calculated is a measure of how biased the die appears to be, based on the numbers you've rolled with it.  But what counts as a reasonable value of $\\chi^2$, and where's the threshold at which you should start getting suspicious?</p>\n",
    "\n",
    "<p>For that, you either need to <a href=\"https://en.wikipedia.org/wiki/Chi-squared_distribution\">do some more math</a>, or, more easily, just <a href=\"http://www.itl.nist.gov/div898/handbook/eda/section3/eda3674.htm\">look it up in a table.</a></p>\n",
    "\n",
    "<p>To use the table, you first need to know how many \"degrees of freedom\" our test has.  That's simpler than it sounds: for a $d$-sided die, the test has $\\nu = d - 1$ degrees of freedom (i.e. $\\nu = 19$ for a d20).<sup>3</sup>  This will tell you which row in the table to look at.</p>\n",
    "\n",
    "<p>In the table above, row 19 looks like this:</p>\n",
    "\n",
    "<pre><code>                Probability less than the critical value\n",
    "  ν           0.90      0.95     0.975      0.99     0.999\n",
    "----------------------------------------------------------\n",
    " 19         27.204    30.144    32.852    36.191    43.820\n",
    "</code></pre>\n",
    "\n",
    "<p>What does this mean?  Well, it means that, <em>if</em> the die is actually fair, then $\\chi^2$ will be less than 27.204 in 90% of all tests, less than 30.144 in 95% of all tests, and so on.  Only once in a thousand tests will a fair d20 actually produce a $\\chi^2$ value higher than 43.820.</p>\n",
    "\n",
    "<p>Thus, by comparing $\\chi^2$ to the critical values in the table, you can estimate how likely it is to be biased.<sup>4</sup>  If $\\chi^2 \\le 27$, the die probably has no bias, or at least you haven't counted enough rolls to detect it; around $\\chi^2 \\ge 30$ or so, you <em>might</em> want to be concerned, and maybe set the die aside for further testing; if $\\chi^2 \\ge 40$, you can declare the die biased with pretty high confidence.</p>\n",
    "\n",
    "<p>Note that the chi-squared test does <em>not</em> say anything about <em>how</em> the die is biased: a die that, say, rolls 10 more often and 11 less often than it should is just as likely to fail the test as one that rolls 20 more often and 1 less often.  Of course, if the chi-squared test does detect bias, you can just look at the tally counts yourself to see which ones occur more often than you'd expect.</p>\n",
    "\n",
    "<p>Ps. For convenience, here are the table rows for a few other commonly used types of dice:<sup>5</sup></p>\n",
    "\n",
    "<pre><code>Upper-tail critical values of χ² distribution with ν degrees of freedom (source: NIST)\n",
    "\n",
    "                Probability less than the critical value\n",
    "  ν           0.90      0.95     0.975      0.99     0.999\n",
    "----------------------------------------------------------\n",
    "  1 (d2)     2.706     3.841     5.024     6.635    10.828\n",
    "  2 (d3)     4.605     5.991     7.378     9.210    13.816\n",
    "  3 (d4)     6.251     7.815     9.348    11.345    16.266\n",
    "  5 (d6)     9.236    11.070    12.833    15.086    20.515\n",
    "  7 (d8)    12.017    14.067    16.013    18.475    24.322\n",
    "  9 (d10)   14.684    16.919    19.023    21.666    27.877\n",
    " 11 (d12)   17.275    19.675    21.920    24.725    31.264\n",
    " 19 (d20)   27.204    30.144    32.852    36.191    43.820\n",
    "</code></pre>\n",
    "\n",
    "<hr>\n",
    "\n",
    "<p><strong>Footnotes:</strong></p>\n",
    "\n",
    "<p><sup>1) For an ordinary fair die, the expected number of times each side comes up is obviously the same, but we <em>could</em> use the chi-squared test also for dice that we <em>don't</em> expect to roll each number equally often (like, say, dice where the same number appears several times).  In that case, we'd just have a different $n_{\\exp}$ for each possible roll of the die.</sup></p>\n",
    "\n",
    "<p><sup>2) I'm not aware of a conventional symbol for these intermediate values, but $\\chi^2_k$ seems like a reasonable choice, given both that they add up to the test statistic $\\chi^2$, and that each of them is the square of an (approximately) normally distributed random variable, and thus is itself <a href=\"https://en.wikipedia.org/wiki/Chi-squared_distribution\">$\\chi^2$-distributed</a>.  Your favorite statistics text, if it bothers to give them a symbol at all, may use something else.</sup></p>\n",
    "\n",
    "<p><sup>3) The number of <a href=\"https://en.wikipedia.org/wiki/Degrees_of_freedom_%28statistics%29\">degrees of freedom</a> is essentially the number of values in our measurements that can vary independently.  Here, we're measuring 20 values, \\$n_1\\$ to \\$n_{20}\\$, but they're not quite independent: we know that $n_1 + n_2 + \\dots + n_{20} = N$, so once we know 19 of the values, we can calculate the last one based on the other 19.  Hence, 19 degrees of freedom.</sup></p>\n",
    "\n",
    "<p><sup>4) Note that the numbers in the table header give the probability that a perfectly fair die will produce a $\\chi^2$ value higher than the critical value in that column.  This is <em>not</em> the same as the probability that a die with \\$\\chi^2\\$ less than the critical value is fair, or that a die with $\\chi^2$ higher than the critical value is biased; to calculate those probabilities, you'd first have to know the <em>a priori</em> frequency of bias among your dice.  Indeed, in some sense, these questions are not even meaningful to ask: <em>truly</em> fair dice only exist in the platonic realm of ideas, and every <em>real</em> die almost certainly has <em>some</em> bias, if you measure it carefully enough.  Thus, in a sense, <em>any</em> claim that a given die is fair is false; all we can really say is that it's <em>close enough</em> to fair that we can't tell the difference.</sup></p>\n",
    "\n",
    "<p><sup>5) A \"d2\" is, of course, a coin.  Use the \"d3\" column ($\\nu = 2$) e.g. for Fudge dice.</sup></p>\n",
    "\n",
    "<hr>\n",
    "\n",
    "<p><strong>Addendum:</strong> So, just how many rolls do we need to <em>actually detect biased dice</em>?  Well, I did some quick simulation tests, using an <em>extremely</em> biased virtual d20 that <em>never</em> rolls a 1, and rolls 20 twice as often as it should.  Using the different $\\chi^2$ thresholds given in the table above, and various numbers of test rolls, from the minimum of 100 up to 400, here's the fraction of runs on which the $\\chi^2$ value exceeded the threshold:</p>\n",
    "\n",
    "<pre><code>                   Probability of passing a fair die\n",
    "          |   0.90      0.95      0.975     0.99     0.999\n",
    "Rolls     +-----------------------------------------------\n",
    "          |        Probability of detecting the bias\n",
    "100       |   0.50      0.37      0.26      0.17     0.054\n",
    "200       |   0.89      0.80      0.69      0.55     0.28\n",
    "300       |   0.9932    0.972     0.938     0.87     0.62\n",
    "400       |   0.9999    0.9992    0.9961    0.985    0.88\n",
    "</code></pre>\n",
    "\n",
    "<p>In each case, the probability of falsely detecting bias in a fair die is essentially independent of the number of rolls &mdash; this is a deliberate feature of the $\\chi^2$ test.  The probability of <em>correctly</em> detecting the biased die, however, increases significantly with more rolls.</p>\n",
    "\n",
    "<p>From the table above, we can see that 100 rolls (the minimum number for the $\\chi^2$ test to even be valid) is way too little to detect even such an egregious bias: even if we set the $\\chi^2$ threshold so low that we end up rejecting 10% of all fair dice, we still catch only about 50% of the biased ones, and it only gets worse as we increase the threshold.</p>\n",
    "\n",
    "<p>On the other hand, with 400 rolls, things look a lot better: setting the threshold at $\\chi^2 \\le 36.191$, 99% of all fair dice will pass this test, while about 98.5% of all the biased dice in this test will fail it.  (Of course, we're still talking about <em>very</em> strongly biased dice here; more subtle bias will be harder to detect.)</p>\n",
    "\n",
    "<p>OK, but surely a die that <em>never</em> rolls 1 should be <em>easy</em> to spot?  After all, with a fair d20, the probability of rolling 100 times and never seeing a 1 is only $\\left(\\frac{19}{20}\\right)^{100} \\approx 0.006$.  Shouldn't that be <em>plenty</em> of reason to consider the die biased?  What gives?</p>\n",
    "\n",
    "<p>Well, one reason why the $\\chi^2$ test seems so ineffective here is that it's looking for <em>any</em> kind of bias.  Sure, if we rolled a d20 a hundred times, and never saw a 1, we might be justifiably suspicious.  But what if we never saw a 7, or a 15, or any of the other possible rolls?  Would those <em>also</em> be reason to call the die biased?</p>\n",
    "\n",
    "<p>Well, it turns out that, even though the probability of never rolling a 1 in 100 rolls on a d20 is only about 0.6%, the probability of never rolling <em>some</em> number is about 20 times that, or about 12%.  So if we rejected all 20-sided dice that never rolled some number in 100 rolls, we'd end up rejecting about 12% of all fair dice, too.  And, of course, there also are many <em>other</em> kinds of possible biases that the $\\chi^2$ test will also detect; thus, with just 100 rolls, it's actually quite likely to detect <em>some</em> bias even in a d20 that's perfectly fair, and so we need to set the threshold value quite high to compensate.</p>\n",
    "\n",
    "<p>If we were <em>only</em> interested in bias affecting the most extreme rolls (1 and 20), we could modify the $\\chi^2$ test to e.g. lump all the rolls between 2 and 19 into a single category, with $n_{\\exp} = \\frac{18 \\times N}{20}$, and use the \\$\\chi^2\\$ threshold for two degrees of freedom (since we now have only three possible outcomes: 1, 20, or something else).  Such a modified $\\chi^2$ test is a <em>lot</em> better at detecting this particular form of bias, with more than half of the biased dice failing the test at the 1% false positive rate even with just 100 rolls, and over 99.99% of them failing it with 200 rolls.</p>\n",
    "\n",
    "<p>Of course, the price we pay for that extra discriminatory power is that this modified test will be <em>completely oblivious</em> to most <em>other</em> kinds of bias &mdash; for example, it will happily pass a die that never rolls a <em>2</em>, and that rolls <em>19</em> twice as often as it should.</p>\n"
   ]
  },
  {
   "cell_type": "markdown",
   "metadata": {},
   "source": [
    "### How can I test the fairness of a twenty sided die (d20)? Obviously I would be comparing the distribution of values against a uniform distribution. I vaguely remember using a Chi-square test in college. How can I apply this to see if a die is fair?"
   ]
  },
  {
   "cell_type": "code",
   "execution_count": 8,
   "metadata": {},
   "outputs": [
    {
     "data": {
      "text/plain": [
       "rolls\n",
       " 1  2  3  4  5  6  7  8  9 10 11 12 13 14 15 16 17 18 19 20 \n",
       "14  9  8 13 10 12  9  8  8 14 10  6  6 10 13  7 15  7  9 12 "
      ]
     },
     "metadata": {},
     "output_type": "display_data"
    }
   ],
   "source": [
    "rolls <- sample(1:20, 200, replace = T)\n",
    "table(rolls)"
   ]
  },
  {
   "cell_type": "code",
   "execution_count": 9,
   "metadata": {},
   "outputs": [
    {
     "data": {
      "text/plain": [
       "\n",
       "\tChi-squared test for given probabilities\n",
       "\n",
       "data:  table(rolls)\n",
       "X-squared = 14.8, df = 19, p-value = 0.7352\n"
      ]
     },
     "metadata": {},
     "output_type": "display_data"
    }
   ],
   "source": [
    "chisq.test(table(rolls), p = rep(0.05, 20))"
   ]
  },
  {
   "cell_type": "markdown",
   "metadata": {},
   "source": [
    "A biased die - numbers 1 to 10 each have a probability of 0.045; those 11-20 have a probability of 0.055 - 200 throws:"
   ]
  },
  {
   "cell_type": "code",
   "execution_count": 10,
   "metadata": {},
   "outputs": [
    {
     "data": {
      "text/plain": [
       "rolls\n",
       " 1  2  3  4  5  6  7  8  9 10 11 12 13 14 15 16 17 18 19 20 \n",
       " 7 12 10 14  8  5  8  8 10  6 13 16  5  8 10 10 14 11 11 14 "
      ]
     },
     "metadata": {},
     "output_type": "display_data"
    }
   ],
   "source": [
    "rolls <- sample(1:20, 200, replace = T, prob=cbind(rep(0.045,10), rep(0.055,10)))\n",
    "table(rolls)"
   ]
  },
  {
   "cell_type": "code",
   "execution_count": 11,
   "metadata": {},
   "outputs": [
    {
     "data": {
      "text/plain": [
       "\n",
       "\tChi-squared test for given probabilities\n",
       "\n",
       "data:  table(rolls)\n",
       "X-squared = 19, df = 19, p-value = 0.4568\n"
      ]
     },
     "metadata": {},
     "output_type": "display_data"
    }
   ],
   "source": [
    "chisq.test(table(rolls), p = rep(0.05, 20))"
   ]
  },
  {
   "cell_type": "markdown",
   "metadata": {},
   "source": [
    "We have insufficient evidence of bias (p = 0.64).\n",
    "\n",
    "A biased die, 1000 throws:"
   ]
  },
  {
   "cell_type": "code",
   "execution_count": 12,
   "metadata": {},
   "outputs": [
    {
     "data": {
      "text/plain": [
       "rolls\n",
       " 1  2  3  4  5  6  7  8  9 10 11 12 13 14 15 16 17 18 19 20 \n",
       "41 46 45 47 52 39 47 40 47 50 59 54 60 58 52 46 50 50 72 45 "
      ]
     },
     "metadata": {},
     "output_type": "display_data"
    }
   ],
   "source": [
    "rolls <- sample(1:20, 1000, replace = T, prob=cbind(rep(0.045,10), rep(0.055,10)))\n",
    "table(rolls)"
   ]
  },
  {
   "cell_type": "code",
   "execution_count": 13,
   "metadata": {},
   "outputs": [
    {
     "data": {
      "text/plain": [
       "\n",
       "\tChi-squared test for given probabilities\n",
       "\n",
       "data:  table(rolls)\n",
       "X-squared = 23.28, df = 19, p-value = 0.2252\n"
      ]
     },
     "metadata": {},
     "output_type": "display_data"
    }
   ],
   "source": [
    "chisq.test(table(rolls), p = rep(0.05, 20))"
   ]
  },
  {
   "cell_type": "markdown",
   "metadata": {},
   "source": [
    "Now p<0.05 and we are starting to see evidence of bias. You can use similar simulations to estimate the level of bias you can expect to detect and the number of throws needed to detect it with an given p-level.\n",
    "\n",
    "Wow, 2 other answers even before I finished typing."
   ]
  },
  {
   "cell_type": "markdown",
   "metadata": {},
   "source": [
    "### The above question done differently below"
   ]
  },
  {
   "cell_type": "markdown",
   "metadata": {},
   "source": [
    "<p>Step 1: roll your die (let's say) 100 times.</p>\n",
    "\n",
    "<p>Step 2: count how many times you got each of your numbers</p>\n",
    "\n",
    "<p>Step 3: put them in R like this (write the number of times each die roll you got, instead of the numbers I wrote):</p>\n",
    "\n",
    "<pre><code>x &lt;- as.table(c(1,2,3,4,5,6,7,80,9,10,11,12,13,14,15,16,17,18,19,20))\n",
    "</code></pre>\n",
    "\n",
    "<p>Step 4: simply run this command:</p>\n",
    "\n",
    "<pre><code>chisq.test(x)\n",
    "</code></pre>\n",
    "\n",
    "<p>If the P value is low (e.g: bellow 0.05) - your die is not balanced.</p>\n",
    "\n",
    "<p>This command simulates a balanced die (P= ~.5):</p>\n",
    "\n",
    "<pre><code>chisq.test(table(sample(1:20, 100, T)))\n",
    "</code></pre>\n",
    "\n",
    "<p>And this simulates an unbalanced die:</p>\n",
    "\n",
    "<pre><code>chisq.test(table(c(rep(20,10),sample(1:20, 100, T))))\n",
    "</code></pre>\n",
    "\n",
    "<p>(It get's to be about P = ~.005)</p>\n",
    "\n",
    "<p>Now the real question is how many die's should be rolled to what level of power of detection.  If someone wants to go into solving that, he is welcomed...</p>\n",
    "\n",
    "<p>Update:  There is also a nice article on this topic <a href=\"http://www.textfiles.com/rpg/fairdice.txt\">here</a>.</p>"
   ]
  },
  {
   "cell_type": "code",
   "execution_count": 14,
   "metadata": {},
   "outputs": [],
   "source": [
    "x <- as.table(c(1,2,3,4,5,6,7,80,9,10,11,12,13,14,15,16,17,18,19,20))"
   ]
  },
  {
   "cell_type": "code",
   "execution_count": 33,
   "metadata": {},
   "outputs": [
    {
     "data": {
      "image/png": "[encoded data removed]",
      "text/plain": [
       "plot without title"
      ]
     },
     "metadata": {},
     "output_type": "display_data",
     "source": "R display func"
    }
   ],
   "source": [
    "library('ggplot2')\n",
    "barplot(x)"
   ]
  },
  {
   "cell_type": "code",
   "execution_count": 34,
   "metadata": {},
   "outputs": [
    {
     "data": {
      "text/plain": [
       "\n",
       "\tChi-squared test for given probabilities\n",
       "\n",
       "data:  x\n",
       "X-squared = 370.91, df = 19, p-value < 2.2e-16\n"
      ]
     },
     "metadata": {},
     "output_type": "display_data"
    }
   ],
   "source": [
    "chisq.test(x)"
   ]
  },
  {
   "cell_type": "code",
   "execution_count": 43,
   "metadata": {},
   "outputs": [],
   "source": [
    "t1 <- chisq.test(table(sample(1:20, 100, T)))"
   ]
  },
  {
   "cell_type": "code",
   "execution_count": 45,
   "metadata": {},
   "outputs": [
    {
     "data": {
      "text/html": [
       "0.284256258668954"
      ],
      "text/latex": [
       "0.284256258668954"
      ],
      "text/markdown": [
       "0.284256258668954"
      ],
      "text/plain": [
       "[1] 0.2842563"
      ]
     },
     "metadata": {},
     "output_type": "display_data"
    }
   ],
   "source": [
    "t1$p.value"
   ]
  },
  {
   "cell_type": "code",
   "execution_count": 97,
   "metadata": {},
   "outputs": [
    {
     "data": {
      "image/png": "[encoded data removed]",
      "text/plain": [
       "Plot with title “Histogram of x”"
      ]
     },
     "metadata": {},
     "output_type": "display_data",
     "source": "R display func"
    }
   ],
   "source": [
    "x <- c()\n",
    "for (i in c(1:1000)){\n",
    "    t1 <- round(chisq.test(table(sample(1:20, 10000, T)))$p.value, 4)\n",
    "    x <- c(x, c(t1))\n",
    "}\n",
    "hist(x, breaks = 10)"
   ]
  },
  {
   "cell_type": "code",
   "execution_count": 98,
   "metadata": {},
   "outputs": [
    {
     "data": {
      "text/html": [
       "3e-04"
      ],
      "text/latex": [
       "3e-04"
      ],
      "text/markdown": [
       "3e-04"
      ],
      "text/plain": [
       "[1] 3e-04"
      ]
     },
     "metadata": {},
     "output_type": "display_data"
    }
   ],
   "source": [
    "min(x)"
   ]
  },
  {
   "cell_type": "code",
   "execution_count": 111,
   "metadata": {},
   "outputs": [
    {
     "name": "stderr",
     "output_type": "stream",
     "text": [
      "Warning message in chisq.test(sample(1:8, 1000, T)):\n",
      "“Chi-squared approximation may be incorrect”"
     ]
    },
    {
     "data": {
      "text/plain": [
       "\n",
       "\tChi-squared test for given probabilities\n",
       "\n",
       "data:  sample(1:8, 1000, T)\n",
       "X-squared = 1215.4, df = 999, p-value = 2.743e-06\n"
      ]
     },
     "metadata": {},
     "output_type": "display_data"
    }
   ],
   "source": [
    "chisq.test(sample(1:8, 1000, T))"
   ]
  },
  {
   "cell_type": "code",
   "execution_count": 113,
   "metadata": {},
   "outputs": [
    {
     "data": {
      "text/plain": [
       "\n",
       "\tChi-squared test for given probabilities\n",
       "\n",
       "data:  table(sample(1:8, 1000, T))\n",
       "X-squared = 4.736, df = 7, p-value = 0.6921\n"
      ]
     },
     "metadata": {},
     "output_type": "display_data"
    }
   ],
   "source": [
    "chisq.test(table(sample(1:8, 1000, T)))"
   ]
  },
  {
   "cell_type": "code",
   "execution_count": 127,
   "metadata": {},
   "outputs": [
    {
     "data": {
      "text/plain": [
       "\n",
       "\tChi-squared test for given probabilities\n",
       "\n",
       "data:  table(c(rep(8, 5), sample(1:8, 1000, T)))\n",
       "X-squared = 15.824, df = 7, p-value = 0.02678\n"
      ]
     },
     "metadata": {},
     "output_type": "display_data"
    }
   ],
   "source": [
    "chisq.test(table(c(rep(8, 5), sample(1:8, 1000, T))))"
   ]
  },
  {
   "cell_type": "code",
   "execution_count": 125,
   "metadata": {},
   "outputs": [
    {
     "data": {
      "text/plain": [
       "\n",
       "    1     2     3     4     5     6     7     8 \n",
       "12637 12543 12375 12500 12546 12572 12246 12586 "
      ]
     },
     "metadata": {},
     "output_type": "display_data"
    }
   ],
   "source": [
    "table(c(rep(8, 5), sample(1:8, 100000, T)))"
   ]
  }
 ],
 "metadata": {
  "kernelspec": {
   "display_name": "R",
   "language": "R",
   "name": "ir"
  },
  "language_info": {
   "codemirror_mode": "r",
   "file_extension": ".r",
   "mimetype": "text/x-r-source",
   "name": "R",
   "pygments_lexer": "r",
   "version": "3.4.3"
  }
 },
 "nbformat": 4,
 "nbformat_minor": 2
}
