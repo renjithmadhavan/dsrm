{
 "cells": [
  {
   "cell_type": "code",
   "execution_count": 1,
   "metadata": {},
   "outputs": [],
   "source": [
    "data_path='../../data/BX-CSV-Dump/'\n",
    "itempath = data_path + 'EB-build-goods.sql'\n",
    "receiptspath = data_path + '75000-out1.csv'"
   ]
  },
  {
   "cell_type": "code",
   "execution_count": 2,
   "metadata": {},
   "outputs": [],
   "source": [
    "with open(receiptspath,\"r\") as receiptsfile:\n",
    "    receiptsdata = receiptsfile.read().split('\\n')"
   ]
  },
  {
   "cell_type": "code",
   "execution_count": 4,
   "metadata": {},
   "outputs": [
    {
     "data": {
      "text/plain": [
       "['2, 7, 11, 37, 45',\n",
       " '3, 3, 33, 42',\n",
       " '4, 5, 12, 17, 47',\n",
       " '5, 6, 18, 42',\n",
       " '6, 2, 4, 34',\n",
       " '7, 15, 16, 23, 40',\n",
       " '8, 2, 3, 29, 34',\n",
       " '9, 18, 23, 26, 35, 36',\n",
       " '10, 44, 45']"
      ]
     },
     "execution_count": 4,
     "metadata": {},
     "output_type": "execute_result"
    }
   ],
   "source": [
    "receiptsdata[1:10]"
   ]
  },
  {
   "cell_type": "code",
   "execution_count": 5,
   "metadata": {},
   "outputs": [],
   "source": [
    "baskets = [line.split(\", \")[1:] for line in receiptsdata[0:-1]]"
   ]
  },
  {
   "cell_type": "code",
   "execution_count": 6,
   "metadata": {},
   "outputs": [
    {
     "data": {
      "text/plain": [
       "[['11', '21'],\n",
       " ['7', '11', '37', '45'],\n",
       " ['3', '33', '42'],\n",
       " ['5', '12', '17', '47'],\n",
       " ['6', '18', '42']]"
      ]
     },
     "execution_count": 6,
     "metadata": {},
     "output_type": "execute_result"
    }
   ],
   "source": [
    "baskets[0:5]"
   ]
  },
  {
   "cell_type": "code",
   "execution_count": 9,
   "metadata": {},
   "outputs": [],
   "source": [
    "with open(itempath,\"r\") as itemfile:\n",
    "    lines = itemfile.read().split('\\n')"
   ]
  },
  {
   "cell_type": "code",
   "execution_count": 11,
   "metadata": {},
   "outputs": [
    {
     "data": {
      "text/plain": [
       "[\"insert into goods values (1,'Lemon','Cake',8.95,'Food');\",\n",
       " \"insert into goods values (2,'Casino','Cake',15.95,'Food');\",\n",
       " \"insert into goods values (3,'Opera','Cake',15.95,'Food');\",\n",
       " \"insert into goods values (4,'Strawberry','Cake',11.95,'Food');\",\n",
       " \"insert into goods values (5,'Truffle','Cake',15.95,'Food');\",\n",
       " \"insert into goods values (6,'Chocolate','Eclair',3.25,'Food');\",\n",
       " \"insert into goods values (7,'Coffee','Eclair',3.5,'Food');\",\n",
       " \"insert into goods values (8,'Vanilla','Eclair',3.25,'Food');\",\n",
       " \"insert into goods values (9,'Napoleon','Cake',13.49,'Food');\"]"
      ]
     },
     "execution_count": 11,
     "metadata": {},
     "output_type": "execute_result"
    }
   ],
   "source": [
    "lines[1:10]"
   ]
  },
  {
   "cell_type": "code",
   "execution_count": 12,
   "metadata": {},
   "outputs": [
    {
     "data": {
      "text/plain": [
       "[['0', \"'Chocolate'\", \"'Cake'\", '8.95', \"'Food'\"],\n",
       " ['1', \"'Lemon'\", \"'Cake'\", '8.95', \"'Food'\"],\n",
       " ['2', \"'Casino'\", \"'Cake'\", '15.95', \"'Food'\"],\n",
       " ['3', \"'Opera'\", \"'Cake'\", '15.95', \"'Food'\"],\n",
       " ['4', \"'Strawberry'\", \"'Cake'\", '11.95', \"'Food'\"]]"
      ]
     },
     "execution_count": 12,
     "metadata": {},
     "output_type": "execute_result"
    }
   ],
   "source": [
    "items = [line.split(\"(\")[1][0:-2].split(\",\") for line in lines[0:-1]]\n",
    "items[0:5]"
   ]
  },
  {
   "cell_type": "code",
   "execution_count": 13,
   "metadata": {},
   "outputs": [],
   "source": [
    "itemMap = {line[0]:line[1]+\" \"+line[2] for line in items}"
   ]
  },
  {
   "cell_type": "code",
   "execution_count": 14,
   "metadata": {},
   "outputs": [],
   "source": [
    "numItems = len(items)\n",
    "numBaskets = len(baskets)"
   ]
  },
  {
   "cell_type": "code",
   "execution_count": 15,
   "metadata": {},
   "outputs": [
    {
     "data": {
      "text/plain": [
       "50"
      ]
     },
     "execution_count": 15,
     "metadata": {},
     "output_type": "execute_result"
    }
   ],
   "source": [
    "numItems"
   ]
  },
  {
   "cell_type": "code",
   "execution_count": 16,
   "metadata": {},
   "outputs": [
    {
     "data": {
      "text/plain": [
       "75000"
      ]
     },
     "execution_count": 16,
     "metadata": {},
     "output_type": "execute_result"
    }
   ],
   "source": [
    "numBaskets"
   ]
  },
  {
   "cell_type": "code",
   "execution_count": 17,
   "metadata": {},
   "outputs": [],
   "source": [
    "def support(itemset):\n",
    "    basketSubset = baskets\n",
    "    for item in itemset: \n",
    "        basketSubset = [basket for basket in basketSubset if item in basket]\n",
    "    return float(len(basketSubset))/float(numBaskets)"
   ]
  },
  {
   "cell_type": "code",
   "execution_count": 18,
   "metadata": {},
   "outputs": [
    {
     "data": {
      "text/plain": [
       "0.00288"
      ]
     },
     "execution_count": 18,
     "metadata": {},
     "output_type": "execute_result"
    }
   ],
   "source": [
    "support(['2','24'])"
   ]
  },
  {
   "cell_type": "code",
   "execution_count": 19,
   "metadata": {},
   "outputs": [],
   "source": [
    "supportItems1 = []\n",
    "minsupport=0.01\n",
    "for item in range(numItems):\n",
    "    itemset=[str(item)]\n",
    "    if support(itemset)>=minsupport:\n",
    "        supportItems1.append(str(item))"
   ]
  },
  {
   "cell_type": "code",
   "execution_count": 20,
   "metadata": {},
   "outputs": [
    {
     "data": {
      "text/plain": [
       "['0',\n",
       " '1',\n",
       " '2',\n",
       " '3',\n",
       " '4',\n",
       " '5',\n",
       " '6',\n",
       " '7',\n",
       " '8',\n",
       " '9',\n",
       " '10',\n",
       " '11',\n",
       " '12',\n",
       " '13',\n",
       " '14',\n",
       " '15',\n",
       " '16',\n",
       " '17',\n",
       " '18',\n",
       " '19',\n",
       " '20',\n",
       " '21',\n",
       " '22',\n",
       " '23',\n",
       " '24',\n",
       " '25',\n",
       " '26',\n",
       " '27',\n",
       " '28',\n",
       " '29',\n",
       " '30',\n",
       " '31',\n",
       " '32',\n",
       " '33',\n",
       " '34',\n",
       " '35',\n",
       " '36',\n",
       " '37',\n",
       " '38',\n",
       " '39',\n",
       " '40',\n",
       " '41',\n",
       " '42',\n",
       " '43',\n",
       " '44',\n",
       " '45',\n",
       " '46',\n",
       " '47',\n",
       " '48',\n",
       " '49']"
      ]
     },
     "execution_count": 20,
     "metadata": {},
     "output_type": "execute_result"
    }
   ],
   "source": [
    "supportItems1"
   ]
  },
  {
   "cell_type": "code",
   "execution_count": 21,
   "metadata": {},
   "outputs": [],
   "source": [
    "import itertools "
   ]
  },
  {
   "cell_type": "code",
   "execution_count": 22,
   "metadata": {},
   "outputs": [],
   "source": [
    "def aprioriIteration(i,supportItems,assocRules,newSupportItems,minsupport,minconfidence):\n",
    "    \n",
    "    for itemset in itertools.combinations(supportItems,i): \n",
    "        itemset = list(itemset)\n",
    "        if support(itemset)>minsupport:\n",
    "             for j in range(i):\n",
    "                rule_to = itemset[j]\n",
    "                rule_from = [x for x in itemset if x!=itemset[j]]\n",
    "                confidence=support(itemset)/support(rule_from) \n",
    "                if confidence>minconfidence:\n",
    "                    assocRules.append((rule_from,rule_to))\n",
    "                    for x in itemset:\n",
    "                        if x not in newSupportItems:\n",
    "                            newSupportItems.append(x)\n",
    "    return assocRules, newSupportItems"
   ]
  },
  {
   "cell_type": "code",
   "execution_count": 23,
   "metadata": {},
   "outputs": [],
   "source": [
    "minsupport=0.01\n",
    "minconfidence=0.5\n",
    "assocRules=[]\n",
    "newSupportItems=[]\n",
    "\n",
    "assocRules, supportItems2 =  aprioriIteration(2,supportItems1,assocRules,newSupportItems,minsupport,minconfidence)"
   ]
  },
  {
   "cell_type": "code",
   "execution_count": 24,
   "metadata": {},
   "outputs": [
    {
     "data": {
      "text/plain": [
       "[(['46'], '0'),\n",
       " (['0'], '46'),\n",
       " (['3'], '18'),\n",
       " (['3'], '35'),\n",
       " (['9'], '4'),\n",
       " (['5'], '22'),\n",
       " (['44'], '14'),\n",
       " (['32'], '16'),\n",
       " (['16'], '32'),\n",
       " (['35'], '18'),\n",
       " (['18'], '35'),\n",
       " (['28'], '27'),\n",
       " (['27'], '28'),\n",
       " (['33'], '42')]"
      ]
     },
     "execution_count": 24,
     "metadata": {},
     "output_type": "execute_result"
    }
   ],
   "source": [
    "assocRules"
   ]
  },
  {
   "cell_type": "code",
   "execution_count": 25,
   "metadata": {},
   "outputs": [],
   "source": [
    "assocRules, supportItems3 =  aprioriIteration(3,supportItems2,assocRules,newSupportItems,minsupport,minconfidence)"
   ]
  },
  {
   "cell_type": "code",
   "execution_count": 26,
   "metadata": {},
   "outputs": [
    {
     "data": {
      "text/plain": [
       "[(['46'], '0'),\n",
       " (['0'], '46'),\n",
       " (['3'], '18'),\n",
       " (['3'], '35'),\n",
       " (['9'], '4'),\n",
       " (['5'], '22'),\n",
       " (['44'], '14'),\n",
       " (['32'], '16'),\n",
       " (['16'], '32'),\n",
       " (['35'], '18'),\n",
       " (['18'], '35'),\n",
       " (['28'], '27'),\n",
       " (['27'], '28'),\n",
       " (['33'], '42'),\n",
       " (['18', '35'], '3'),\n",
       " (['3', '35'], '18'),\n",
       " (['3', '18'], '35')]"
      ]
     },
     "execution_count": 26,
     "metadata": {},
     "output_type": "execute_result"
    }
   ],
   "source": [
    "assocRules"
   ]
  },
  {
   "cell_type": "code",
   "execution_count": 27,
   "metadata": {},
   "outputs": [],
   "source": [
    "def ruleMeta(rule):\n",
    "    rule_from = [itemMap[x] for x in rule[0]]\n",
    "    return rule_from,itemMap[rule[1]]"
   ]
  },
  {
   "cell_type": "code",
   "execution_count": 28,
   "metadata": {},
   "outputs": [
    {
     "data": {
      "text/plain": [
       "[([\"'Chocolate' 'Coffee'\"], \"'Chocolate' 'Cake'\"),\n",
       " ([\"'Chocolate' 'Cake'\"], \"'Chocolate' 'Coffee'\"),\n",
       " ([\"'Opera' 'Cake'\"], \"'Cherry' 'Tart'\"),\n",
       " ([\"'Opera' 'Cake'\"], \"'Apricot' 'Danish'\"),\n",
       " ([\"'Napoleon' 'Cake'\"], \"'Strawberry' 'Cake'\"),\n",
       " ([\"'Truffle' 'Cake'\"], \"'Gongolais' 'Cookie'\"),\n",
       " ([\"'Bottled' 'Water'\"], \"'Berry' 'Tart'\"),\n",
       " ([\"'Apricot' 'Croissant'\"], \"'Blueberry' 'Tart'\"),\n",
       " ([\"'Blueberry' 'Tart'\"], \"'Apricot' 'Croissant'\"),\n",
       " ([\"'Apricot' 'Danish'\"], \"'Cherry' 'Tart'\"),\n",
       " ([\"'Cherry' 'Tart'\"], \"'Apricot' 'Danish'\"),\n",
       " ([\"'Tuile' 'Cookie'\"], \"'Marzipan' 'Cookie'\"),\n",
       " ([\"'Marzipan' 'Cookie'\"], \"'Tuile' 'Cookie'\"),\n",
       " ([\"'Cheese' 'Croissant'\"], \"'Orange' 'Juice'\"),\n",
       " ([\"'Cherry' 'Tart'\", \"'Apricot' 'Danish'\"], \"'Opera' 'Cake'\"),\n",
       " ([\"'Opera' 'Cake'\", \"'Apricot' 'Danish'\"], \"'Cherry' 'Tart'\"),\n",
       " ([\"'Opera' 'Cake'\", \"'Cherry' 'Tart'\"], \"'Apricot' 'Danish'\")]"
      ]
     },
     "execution_count": 28,
     "metadata": {},
     "output_type": "execute_result"
    }
   ],
   "source": [
    "[ruleMeta(rule) for rule in assocRules]"
   ]
  },
  {
   "cell_type": "code",
   "execution_count": null,
   "metadata": {},
   "outputs": [],
   "source": []
  }
 ],
 "metadata": {
  "kernelspec": {
   "display_name": "Python 3",
   "language": "python",
   "name": "python3"
  },
  "language_info": {
   "codemirror_mode": {
    "name": "ipython",
    "version": 3
   },
   "file_extension": ".py",
   "mimetype": "text/x-python",
   "name": "python",
   "nbconvert_exporter": "python",
   "pygments_lexer": "ipython3",
   "version": "3.6.4"
  }
 },
 "nbformat": 4,
 "nbformat_minor": 2
}
