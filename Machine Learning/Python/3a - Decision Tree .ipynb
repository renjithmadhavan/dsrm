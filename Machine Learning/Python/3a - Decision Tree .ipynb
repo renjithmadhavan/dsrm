{
 "cells": [
  {
   "cell_type": "code",
   "execution_count": 4,
   "metadata": {
    "collapsed": true
   },
   "outputs": [],
   "source": [
    "# https://www.encyclopedia-titanica.org/titanic-passengers-and-crew/\n",
    "data_path='../../../data/titanic/'\n",
    "dataFile=data_path + 'titanicdata.htm'\n",
    "import sys\n",
    "import numpy as np"
   ]
  },
  {
   "cell_type": "code",
   "execution_count": 5,
   "metadata": {},
   "outputs": [
    {
     "name": "stderr",
     "output_type": "stream",
     "text": [
      "Some characters could not be decoded, and were replaced with REPLACEMENT CHARACTER.\n"
     ]
    }
   ],
   "source": [
    "from bs4 import BeautifulSoup\n",
    "with open(dataFile,\"rb\") as f:\n",
    "    soup = BeautifulSoup(f,\"html.parser\")"
   ]
  },
  {
   "cell_type": "code",
   "execution_count": 6,
   "metadata": {},
   "outputs": [],
   "source": [
    "table = soup.find('table')"
   ]
  },
  {
   "cell_type": "code",
   "execution_count": 7,
   "metadata": {},
   "outputs": [],
   "source": [
    "import pandas as pd\n",
    "data = pd.read_html(str(table),flavor='bs4')[0]"
   ]
  },
  {
   "cell_type": "code",
   "execution_count": 8,
   "metadata": {},
   "outputs": [
    {
     "data": {
      "text/html": [
       "<div>\n",
       "<style scoped>\n",
       "    .dataframe tbody tr th:only-of-type {\n",
       "        vertical-align: middle;\n",
       "    }\n",
       "\n",
       "    .dataframe tbody tr th {\n",
       "        vertical-align: top;\n",
       "    }\n",
       "\n",
       "    .dataframe thead th {\n",
       "        text-align: right;\n",
       "    }\n",
       "</style>\n",
       "<table border=\"1\" class=\"dataframe\">\n",
       "  <thead>\n",
       "    <tr style=\"text-align: right;\">\n",
       "      <th></th>\n",
       "      <th>Name</th>\n",
       "      <th>Age</th>\n",
       "      <th>Class/Dept</th>\n",
       "      <th>Ticket</th>\n",
       "      <th>Joined</th>\n",
       "      <th>Job</th>\n",
       "      <th>Boat [Body]</th>\n",
       "      <th>Unnamed: 7</th>\n",
       "    </tr>\n",
       "  </thead>\n",
       "  <tbody>\n",
       "    <tr>\n",
       "      <th>0</th>\n",
       "      <td>ABī-AL-MUNà, Mr Nāsīf Qāsim</td>\n",
       "      <td>27</td>\n",
       "      <td>3rd Class Passenger</td>\n",
       "      <td>2699£18 15s 9d</td>\n",
       "      <td>Cherbourg</td>\n",
       "      <td>NaN</td>\n",
       "      <td>15</td>\n",
       "      <td>NaN</td>\n",
       "    </tr>\n",
       "    <tr>\n",
       "      <th>1</th>\n",
       "      <td>ABBING, Mr Anthony</td>\n",
       "      <td>42</td>\n",
       "      <td>3rd Class Passenger</td>\n",
       "      <td>5547£7 11s</td>\n",
       "      <td>Southampton</td>\n",
       "      <td>Blacksmith</td>\n",
       "      <td>NaN</td>\n",
       "      <td>NaN</td>\n",
       "    </tr>\n",
       "    <tr>\n",
       "      <th>2</th>\n",
       "      <td>ABBOTT, Mrs Rhoda Mary 'Rosa'</td>\n",
       "      <td>39</td>\n",
       "      <td>3rd Class Passenger</td>\n",
       "      <td>CA2673£20 5s</td>\n",
       "      <td>Southampton</td>\n",
       "      <td>NaN</td>\n",
       "      <td>A</td>\n",
       "      <td>NaN</td>\n",
       "    </tr>\n",
       "    <tr>\n",
       "      <th>3</th>\n",
       "      <td>ABBOTT, Mr Rossmore Edward</td>\n",
       "      <td>16</td>\n",
       "      <td>3rd Class Passenger</td>\n",
       "      <td>CA2673£20 5s</td>\n",
       "      <td>Southampton</td>\n",
       "      <td>Jeweller</td>\n",
       "      <td>[190]</td>\n",
       "      <td>NaN</td>\n",
       "    </tr>\n",
       "    <tr>\n",
       "      <th>4</th>\n",
       "      <td>ABBOTT, Mr Eugene Joseph</td>\n",
       "      <td>13</td>\n",
       "      <td>3rd Class Passenger</td>\n",
       "      <td>CA2673£20 5s</td>\n",
       "      <td>Southampton</td>\n",
       "      <td>Scholar</td>\n",
       "      <td>NaN</td>\n",
       "      <td>NaN</td>\n",
       "    </tr>\n",
       "  </tbody>\n",
       "</table>\n",
       "</div>"
      ],
      "text/plain": [
       "                            Name Age           Class/Dept          Ticket  \\\n",
       "0    ABī-AL-MUNà, Mr Nāsīf Qāsim  27  3rd Class Passenger  2699£18 15s 9d   \n",
       "1             ABBING, Mr Anthony  42  3rd Class Passenger      5547£7 11s   \n",
       "2  ABBOTT, Mrs Rhoda Mary 'Rosa'  39  3rd Class Passenger    CA2673£20 5s   \n",
       "3     ABBOTT, Mr Rossmore Edward  16  3rd Class Passenger    CA2673£20 5s   \n",
       "4       ABBOTT, Mr Eugene Joseph  13  3rd Class Passenger    CA2673£20 5s   \n",
       "\n",
       "        Joined         Job Boat [Body]  Unnamed: 7  \n",
       "0    Cherbourg         NaN          15         NaN  \n",
       "1  Southampton  Blacksmith         NaN         NaN  \n",
       "2  Southampton         NaN           A         NaN  \n",
       "3  Southampton    Jeweller       [190]         NaN  \n",
       "4  Southampton     Scholar         NaN         NaN  "
      ]
     },
     "execution_count": 8,
     "metadata": {},
     "output_type": "execute_result"
    }
   ],
   "source": [
    "data.head()"
   ]
  },
  {
   "cell_type": "code",
   "execution_count": 9,
   "metadata": {},
   "outputs": [],
   "source": [
    "data['Boat [Body]'] = data['Boat [Body]'].replace(np.nan, '', regex = True)"
   ]
  },
  {
   "cell_type": "code",
   "execution_count": 10,
   "metadata": {},
   "outputs": [],
   "source": [
    "def cleanup(value):\n",
    "    try:\n",
    "        #print(value)\n",
    "        return value.encode('utf-8', errors='ignore').decode('utf-8').replace(\"?\",\" \")\n",
    "    except Exception as e:\n",
    "        print(e.args)\n",
    "        print(value)\n",
    "        sys.exit()"
   ]
  },
  {
   "cell_type": "code",
   "execution_count": 11,
   "metadata": {},
   "outputs": [],
   "source": [
    "data['Name']= data['Name'].apply(cleanup)"
   ]
  },
  {
   "cell_type": "code",
   "execution_count": 12,
   "metadata": {},
   "outputs": [],
   "source": [
    "data['Boat [Body]']= data['Boat [Body]'].apply(cleanup)"
   ]
  },
  {
   "cell_type": "code",
   "execution_count": 13,
   "metadata": {},
   "outputs": [],
   "source": [
    "data['Age'] = data['Age'].apply(pd.to_numeric, errors='coerce')"
   ]
  },
  {
   "cell_type": "code",
   "execution_count": 14,
   "metadata": {},
   "outputs": [
    {
     "data": {
      "text/html": [
       "<div>\n",
       "<style scoped>\n",
       "    .dataframe tbody tr th:only-of-type {\n",
       "        vertical-align: middle;\n",
       "    }\n",
       "\n",
       "    .dataframe tbody tr th {\n",
       "        vertical-align: top;\n",
       "    }\n",
       "\n",
       "    .dataframe thead th {\n",
       "        text-align: right;\n",
       "    }\n",
       "</style>\n",
       "<table border=\"1\" class=\"dataframe\">\n",
       "  <thead>\n",
       "    <tr style=\"text-align: right;\">\n",
       "      <th></th>\n",
       "      <th>Name</th>\n",
       "      <th>Age</th>\n",
       "      <th>Class/Dept</th>\n",
       "      <th>Boat [Body]</th>\n",
       "    </tr>\n",
       "  </thead>\n",
       "  <tbody>\n",
       "    <tr>\n",
       "      <th>0</th>\n",
       "      <td>ABī-AL-MUNà, Mr Nāsīf Qāsim</td>\n",
       "      <td>27.0</td>\n",
       "      <td>3rd Class Passenger</td>\n",
       "      <td>15</td>\n",
       "    </tr>\n",
       "    <tr>\n",
       "      <th>1</th>\n",
       "      <td>ABBING, Mr Anthony</td>\n",
       "      <td>42.0</td>\n",
       "      <td>3rd Class Passenger</td>\n",
       "      <td></td>\n",
       "    </tr>\n",
       "    <tr>\n",
       "      <th>2</th>\n",
       "      <td>ABBOTT, Mrs Rhoda Mary 'Rosa'</td>\n",
       "      <td>39.0</td>\n",
       "      <td>3rd Class Passenger</td>\n",
       "      <td>A</td>\n",
       "    </tr>\n",
       "    <tr>\n",
       "      <th>3</th>\n",
       "      <td>ABBOTT, Mr Rossmore Edward</td>\n",
       "      <td>16.0</td>\n",
       "      <td>3rd Class Passenger</td>\n",
       "      <td>[190]</td>\n",
       "    </tr>\n",
       "    <tr>\n",
       "      <th>4</th>\n",
       "      <td>ABBOTT, Mr Eugene Joseph</td>\n",
       "      <td>13.0</td>\n",
       "      <td>3rd Class Passenger</td>\n",
       "      <td></td>\n",
       "    </tr>\n",
       "  </tbody>\n",
       "</table>\n",
       "</div>"
      ],
      "text/plain": [
       "                            Name   Age           Class/Dept Boat [Body]\n",
       "0    ABī-AL-MUNà, Mr Nāsīf Qāsim  27.0  3rd Class Passenger          15\n",
       "1             ABBING, Mr Anthony  42.0  3rd Class Passenger            \n",
       "2  ABBOTT, Mrs Rhoda Mary 'Rosa'  39.0  3rd Class Passenger           A\n",
       "3     ABBOTT, Mr Rossmore Edward  16.0  3rd Class Passenger       [190]\n",
       "4       ABBOTT, Mr Eugene Joseph  13.0  3rd Class Passenger            "
      ]
     },
     "execution_count": 14,
     "metadata": {},
     "output_type": "execute_result"
    }
   ],
   "source": [
    "data = data[[\"Name\",\"Age\",\"Class/Dept\",\"Boat [Body]\"]]\n",
    "\n",
    "data.head()"
   ]
  },
  {
   "cell_type": "code",
   "execution_count": 15,
   "metadata": {},
   "outputs": [
    {
     "data": {
      "text/html": [
       "<div>\n",
       "<style scoped>\n",
       "    .dataframe tbody tr th:only-of-type {\n",
       "        vertical-align: middle;\n",
       "    }\n",
       "\n",
       "    .dataframe tbody tr th {\n",
       "        vertical-align: top;\n",
       "    }\n",
       "\n",
       "    .dataframe thead th {\n",
       "        text-align: right;\n",
       "    }\n",
       "</style>\n",
       "<table border=\"1\" class=\"dataframe\">\n",
       "  <thead>\n",
       "    <tr style=\"text-align: right;\">\n",
       "      <th></th>\n",
       "      <th>Name</th>\n",
       "      <th>Age</th>\n",
       "      <th>Class/Dept</th>\n",
       "      <th>Boat [Body]</th>\n",
       "      <th>Crew/Pass</th>\n",
       "    </tr>\n",
       "  </thead>\n",
       "  <tbody>\n",
       "    <tr>\n",
       "      <th>0</th>\n",
       "      <td>ABī-AL-MUNà, Mr Nāsīf Qāsim</td>\n",
       "      <td>27.0</td>\n",
       "      <td>3rd Class Passenger</td>\n",
       "      <td>15</td>\n",
       "      <td>Passenger</td>\n",
       "    </tr>\n",
       "    <tr>\n",
       "      <th>1</th>\n",
       "      <td>ABBING, Mr Anthony</td>\n",
       "      <td>42.0</td>\n",
       "      <td>3rd Class Passenger</td>\n",
       "      <td></td>\n",
       "      <td>Passenger</td>\n",
       "    </tr>\n",
       "    <tr>\n",
       "      <th>2</th>\n",
       "      <td>ABBOTT, Mrs Rhoda Mary 'Rosa'</td>\n",
       "      <td>39.0</td>\n",
       "      <td>3rd Class Passenger</td>\n",
       "      <td>A</td>\n",
       "      <td>Passenger</td>\n",
       "    </tr>\n",
       "    <tr>\n",
       "      <th>3</th>\n",
       "      <td>ABBOTT, Mr Rossmore Edward</td>\n",
       "      <td>16.0</td>\n",
       "      <td>3rd Class Passenger</td>\n",
       "      <td>[190]</td>\n",
       "      <td>Passenger</td>\n",
       "    </tr>\n",
       "    <tr>\n",
       "      <th>4</th>\n",
       "      <td>ABBOTT, Mr Eugene Joseph</td>\n",
       "      <td>13.0</td>\n",
       "      <td>3rd Class Passenger</td>\n",
       "      <td></td>\n",
       "      <td>Passenger</td>\n",
       "    </tr>\n",
       "  </tbody>\n",
       "</table>\n",
       "</div>"
      ],
      "text/plain": [
       "                            Name   Age           Class/Dept Boat [Body]  \\\n",
       "0    ABī-AL-MUNà, Mr Nāsīf Qāsim  27.0  3rd Class Passenger          15   \n",
       "1             ABBING, Mr Anthony  42.0  3rd Class Passenger               \n",
       "2  ABBOTT, Mrs Rhoda Mary 'Rosa'  39.0  3rd Class Passenger           A   \n",
       "3     ABBOTT, Mr Rossmore Edward  16.0  3rd Class Passenger       [190]   \n",
       "4       ABBOTT, Mr Eugene Joseph  13.0  3rd Class Passenger               \n",
       "\n",
       "   Crew/Pass  \n",
       "0  Passenger  \n",
       "1  Passenger  \n",
       "2  Passenger  \n",
       "3  Passenger  \n",
       "4  Passenger  "
      ]
     },
     "execution_count": 15,
     "metadata": {},
     "output_type": "execute_result"
    }
   ],
   "source": [
    "def checkPass(class_type):\n",
    "    if \"Passenger\" in class_type:\n",
    "        return \"Passenger\"\n",
    "    else:\n",
    "        return \"Crew\"\n",
    "    \n",
    "data[\"Crew/Pass\"]=data[\"Class/Dept\"].apply(checkPass)\n",
    "data.head()"
   ]
  },
  {
   "cell_type": "code",
   "execution_count": 16,
   "metadata": {},
   "outputs": [
    {
     "data": {
      "text/html": [
       "<div>\n",
       "<style scoped>\n",
       "    .dataframe tbody tr th:only-of-type {\n",
       "        vertical-align: middle;\n",
       "    }\n",
       "\n",
       "    .dataframe tbody tr th {\n",
       "        vertical-align: top;\n",
       "    }\n",
       "\n",
       "    .dataframe thead th {\n",
       "        text-align: right;\n",
       "    }\n",
       "</style>\n",
       "<table border=\"1\" class=\"dataframe\">\n",
       "  <thead>\n",
       "    <tr style=\"text-align: right;\">\n",
       "      <th></th>\n",
       "      <th>Name</th>\n",
       "      <th>Age</th>\n",
       "      <th>Class/Dept</th>\n",
       "      <th>Boat [Body]</th>\n",
       "      <th>Crew/Pass</th>\n",
       "      <th>Class</th>\n",
       "    </tr>\n",
       "  </thead>\n",
       "  <tbody>\n",
       "    <tr>\n",
       "      <th>0</th>\n",
       "      <td>ABī-AL-MUNà, Mr Nāsīf Qāsim</td>\n",
       "      <td>27.0</td>\n",
       "      <td>3rd Class Passenger</td>\n",
       "      <td>15</td>\n",
       "      <td>Passenger</td>\n",
       "      <td>3rd</td>\n",
       "    </tr>\n",
       "    <tr>\n",
       "      <th>1</th>\n",
       "      <td>ABBING, Mr Anthony</td>\n",
       "      <td>42.0</td>\n",
       "      <td>3rd Class Passenger</td>\n",
       "      <td></td>\n",
       "      <td>Passenger</td>\n",
       "      <td>3rd</td>\n",
       "    </tr>\n",
       "    <tr>\n",
       "      <th>2</th>\n",
       "      <td>ABBOTT, Mrs Rhoda Mary 'Rosa'</td>\n",
       "      <td>39.0</td>\n",
       "      <td>3rd Class Passenger</td>\n",
       "      <td>A</td>\n",
       "      <td>Passenger</td>\n",
       "      <td>3rd</td>\n",
       "    </tr>\n",
       "    <tr>\n",
       "      <th>3</th>\n",
       "      <td>ABBOTT, Mr Rossmore Edward</td>\n",
       "      <td>16.0</td>\n",
       "      <td>3rd Class Passenger</td>\n",
       "      <td>[190]</td>\n",
       "      <td>Passenger</td>\n",
       "      <td>3rd</td>\n",
       "    </tr>\n",
       "    <tr>\n",
       "      <th>4</th>\n",
       "      <td>ABBOTT, Mr Eugene Joseph</td>\n",
       "      <td>13.0</td>\n",
       "      <td>3rd Class Passenger</td>\n",
       "      <td></td>\n",
       "      <td>Passenger</td>\n",
       "      <td>3rd</td>\n",
       "    </tr>\n",
       "  </tbody>\n",
       "</table>\n",
       "</div>"
      ],
      "text/plain": [
       "                            Name   Age           Class/Dept Boat [Body]  \\\n",
       "0    ABī-AL-MUNà, Mr Nāsīf Qāsim  27.0  3rd Class Passenger          15   \n",
       "1             ABBING, Mr Anthony  42.0  3rd Class Passenger               \n",
       "2  ABBOTT, Mrs Rhoda Mary 'Rosa'  39.0  3rd Class Passenger           A   \n",
       "3     ABBOTT, Mr Rossmore Edward  16.0  3rd Class Passenger       [190]   \n",
       "4       ABBOTT, Mr Eugene Joseph  13.0  3rd Class Passenger               \n",
       "\n",
       "   Crew/Pass Class  \n",
       "0  Passenger   3rd  \n",
       "1  Passenger   3rd  \n",
       "2  Passenger   3rd  \n",
       "3  Passenger   3rd  \n",
       "4  Passenger   3rd  "
      ]
     },
     "execution_count": 16,
     "metadata": {},
     "output_type": "execute_result"
    }
   ],
   "source": [
    "def checkClass(class_type):\n",
    "    if \"Passenger\" in class_type:\n",
    "        return class_type.split(\" \")[0]\n",
    "    else:\n",
    "        return \"Crew\"\n",
    "    \n",
    "data[\"Class\"]=data[\"Class/Dept\"].apply(checkClass)\n",
    "data.head() "
   ]
  },
  {
   "cell_type": "code",
   "execution_count": 17,
   "metadata": {},
   "outputs": [
    {
     "data": {
      "text/html": [
       "<div>\n",
       "<style scoped>\n",
       "    .dataframe tbody tr th:only-of-type {\n",
       "        vertical-align: middle;\n",
       "    }\n",
       "\n",
       "    .dataframe tbody tr th {\n",
       "        vertical-align: top;\n",
       "    }\n",
       "\n",
       "    .dataframe thead th {\n",
       "        text-align: right;\n",
       "    }\n",
       "</style>\n",
       "<table border=\"1\" class=\"dataframe\">\n",
       "  <thead>\n",
       "    <tr style=\"text-align: right;\">\n",
       "      <th></th>\n",
       "      <th>Name</th>\n",
       "      <th>Age</th>\n",
       "      <th>Class/Dept</th>\n",
       "      <th>Boat [Body]</th>\n",
       "      <th>Crew/Pass</th>\n",
       "      <th>Class</th>\n",
       "      <th>Adult/Child</th>\n",
       "    </tr>\n",
       "  </thead>\n",
       "  <tbody>\n",
       "    <tr>\n",
       "      <th>0</th>\n",
       "      <td>ABī-AL-MUNà, Mr Nāsīf Qāsim</td>\n",
       "      <td>27.0</td>\n",
       "      <td>3rd Class Passenger</td>\n",
       "      <td>15</td>\n",
       "      <td>Passenger</td>\n",
       "      <td>3rd</td>\n",
       "      <td>Adult</td>\n",
       "    </tr>\n",
       "    <tr>\n",
       "      <th>1</th>\n",
       "      <td>ABBING, Mr Anthony</td>\n",
       "      <td>42.0</td>\n",
       "      <td>3rd Class Passenger</td>\n",
       "      <td></td>\n",
       "      <td>Passenger</td>\n",
       "      <td>3rd</td>\n",
       "      <td>Adult</td>\n",
       "    </tr>\n",
       "    <tr>\n",
       "      <th>2</th>\n",
       "      <td>ABBOTT, Mrs Rhoda Mary 'Rosa'</td>\n",
       "      <td>39.0</td>\n",
       "      <td>3rd Class Passenger</td>\n",
       "      <td>A</td>\n",
       "      <td>Passenger</td>\n",
       "      <td>3rd</td>\n",
       "      <td>Adult</td>\n",
       "    </tr>\n",
       "    <tr>\n",
       "      <th>3</th>\n",
       "      <td>ABBOTT, Mr Rossmore Edward</td>\n",
       "      <td>16.0</td>\n",
       "      <td>3rd Class Passenger</td>\n",
       "      <td>[190]</td>\n",
       "      <td>Passenger</td>\n",
       "      <td>3rd</td>\n",
       "      <td>Child</td>\n",
       "    </tr>\n",
       "    <tr>\n",
       "      <th>4</th>\n",
       "      <td>ABBOTT, Mr Eugene Joseph</td>\n",
       "      <td>13.0</td>\n",
       "      <td>3rd Class Passenger</td>\n",
       "      <td></td>\n",
       "      <td>Passenger</td>\n",
       "      <td>3rd</td>\n",
       "      <td>Child</td>\n",
       "    </tr>\n",
       "  </tbody>\n",
       "</table>\n",
       "</div>"
      ],
      "text/plain": [
       "                            Name   Age           Class/Dept Boat [Body]  \\\n",
       "0    ABī-AL-MUNà, Mr Nāsīf Qāsim  27.0  3rd Class Passenger          15   \n",
       "1             ABBING, Mr Anthony  42.0  3rd Class Passenger               \n",
       "2  ABBOTT, Mrs Rhoda Mary 'Rosa'  39.0  3rd Class Passenger           A   \n",
       "3     ABBOTT, Mr Rossmore Edward  16.0  3rd Class Passenger       [190]   \n",
       "4       ABBOTT, Mr Eugene Joseph  13.0  3rd Class Passenger               \n",
       "\n",
       "   Crew/Pass Class Adult/Child  \n",
       "0  Passenger   3rd       Adult  \n",
       "1  Passenger   3rd       Adult  \n",
       "2  Passenger   3rd       Adult  \n",
       "3  Passenger   3rd       Child  \n",
       "4  Passenger   3rd       Child  "
      ]
     },
     "execution_count": 17,
     "metadata": {},
     "output_type": "execute_result"
    }
   ],
   "source": [
    "def checkAdult(age):\n",
    "    if age>=18:\n",
    "        return \"Adult\"\n",
    "    else:\n",
    "        return \"Child\"\n",
    "    \n",
    "data[\"Adult/Child\"]=data[\"Age\"].apply(checkAdult)\n",
    "data.head() "
   ]
  },
  {
   "cell_type": "code",
   "execution_count": 18,
   "metadata": {},
   "outputs": [],
   "source": [
    "def checkGender(name):\n",
    "    firstname = name[name.index(\",\")+2:]\n",
    "    salutation = firstname.split(\" \")[0]\n",
    "    if salutation in [\"Mr\",\"Master\"]:\n",
    "        return \"Male\"\n",
    "    else:\n",
    "        return \"Female\""
   ]
  },
  {
   "cell_type": "code",
   "execution_count": 19,
   "metadata": {},
   "outputs": [
    {
     "data": {
      "text/html": [
       "<div>\n",
       "<style scoped>\n",
       "    .dataframe tbody tr th:only-of-type {\n",
       "        vertical-align: middle;\n",
       "    }\n",
       "\n",
       "    .dataframe tbody tr th {\n",
       "        vertical-align: top;\n",
       "    }\n",
       "\n",
       "    .dataframe thead th {\n",
       "        text-align: right;\n",
       "    }\n",
       "</style>\n",
       "<table border=\"1\" class=\"dataframe\">\n",
       "  <thead>\n",
       "    <tr style=\"text-align: right;\">\n",
       "      <th></th>\n",
       "      <th>Name</th>\n",
       "      <th>Age</th>\n",
       "      <th>Class/Dept</th>\n",
       "      <th>Boat [Body]</th>\n",
       "      <th>Crew/Pass</th>\n",
       "      <th>Class</th>\n",
       "      <th>Adult/Child</th>\n",
       "      <th>Gender</th>\n",
       "    </tr>\n",
       "  </thead>\n",
       "  <tbody>\n",
       "    <tr>\n",
       "      <th>0</th>\n",
       "      <td>ABī-AL-MUNà, Mr Nāsīf Qāsim</td>\n",
       "      <td>27.0</td>\n",
       "      <td>3rd Class Passenger</td>\n",
       "      <td>15</td>\n",
       "      <td>Passenger</td>\n",
       "      <td>3rd</td>\n",
       "      <td>Adult</td>\n",
       "      <td>Male</td>\n",
       "    </tr>\n",
       "    <tr>\n",
       "      <th>1</th>\n",
       "      <td>ABBING, Mr Anthony</td>\n",
       "      <td>42.0</td>\n",
       "      <td>3rd Class Passenger</td>\n",
       "      <td></td>\n",
       "      <td>Passenger</td>\n",
       "      <td>3rd</td>\n",
       "      <td>Adult</td>\n",
       "      <td>Male</td>\n",
       "    </tr>\n",
       "    <tr>\n",
       "      <th>2</th>\n",
       "      <td>ABBOTT, Mrs Rhoda Mary 'Rosa'</td>\n",
       "      <td>39.0</td>\n",
       "      <td>3rd Class Passenger</td>\n",
       "      <td>A</td>\n",
       "      <td>Passenger</td>\n",
       "      <td>3rd</td>\n",
       "      <td>Adult</td>\n",
       "      <td>Female</td>\n",
       "    </tr>\n",
       "    <tr>\n",
       "      <th>3</th>\n",
       "      <td>ABBOTT, Mr Rossmore Edward</td>\n",
       "      <td>16.0</td>\n",
       "      <td>3rd Class Passenger</td>\n",
       "      <td>[190]</td>\n",
       "      <td>Passenger</td>\n",
       "      <td>3rd</td>\n",
       "      <td>Child</td>\n",
       "      <td>Male</td>\n",
       "    </tr>\n",
       "    <tr>\n",
       "      <th>4</th>\n",
       "      <td>ABBOTT, Mr Eugene Joseph</td>\n",
       "      <td>13.0</td>\n",
       "      <td>3rd Class Passenger</td>\n",
       "      <td></td>\n",
       "      <td>Passenger</td>\n",
       "      <td>3rd</td>\n",
       "      <td>Child</td>\n",
       "      <td>Male</td>\n",
       "    </tr>\n",
       "  </tbody>\n",
       "</table>\n",
       "</div>"
      ],
      "text/plain": [
       "                            Name   Age           Class/Dept Boat [Body]  \\\n",
       "0    ABī-AL-MUNà, Mr Nāsīf Qāsim  27.0  3rd Class Passenger          15   \n",
       "1             ABBING, Mr Anthony  42.0  3rd Class Passenger               \n",
       "2  ABBOTT, Mrs Rhoda Mary 'Rosa'  39.0  3rd Class Passenger           A   \n",
       "3     ABBOTT, Mr Rossmore Edward  16.0  3rd Class Passenger       [190]   \n",
       "4       ABBOTT, Mr Eugene Joseph  13.0  3rd Class Passenger               \n",
       "\n",
       "   Crew/Pass Class Adult/Child  Gender  \n",
       "0  Passenger   3rd       Adult    Male  \n",
       "1  Passenger   3rd       Adult    Male  \n",
       "2  Passenger   3rd       Adult  Female  \n",
       "3  Passenger   3rd       Child    Male  \n",
       "4  Passenger   3rd       Child    Male  "
      ]
     },
     "execution_count": 19,
     "metadata": {},
     "output_type": "execute_result"
    }
   ],
   "source": [
    "data[\"Gender\"]=data[\"Name\"].apply(checkGender)\n",
    "data.head() "
   ]
  },
  {
   "cell_type": "code",
   "execution_count": 20,
   "metadata": {},
   "outputs": [
    {
     "data": {
      "text/html": [
       "<div>\n",
       "<style scoped>\n",
       "    .dataframe tbody tr th:only-of-type {\n",
       "        vertical-align: middle;\n",
       "    }\n",
       "\n",
       "    .dataframe tbody tr th {\n",
       "        vertical-align: top;\n",
       "    }\n",
       "\n",
       "    .dataframe thead th {\n",
       "        text-align: right;\n",
       "    }\n",
       "</style>\n",
       "<table border=\"1\" class=\"dataframe\">\n",
       "  <thead>\n",
       "    <tr style=\"text-align: right;\">\n",
       "      <th></th>\n",
       "      <th>Name</th>\n",
       "      <th>Age</th>\n",
       "      <th>Class/Dept</th>\n",
       "      <th>Boat [Body]</th>\n",
       "      <th>Crew/Pass</th>\n",
       "      <th>Class</th>\n",
       "      <th>Adult/Child</th>\n",
       "      <th>Gender</th>\n",
       "    </tr>\n",
       "  </thead>\n",
       "  <tbody>\n",
       "    <tr>\n",
       "      <th>0</th>\n",
       "      <td>ABī-AL-MUNà, Mr Nāsīf Qāsim</td>\n",
       "      <td>27.0</td>\n",
       "      <td>3rd Class Passenger</td>\n",
       "      <td>15</td>\n",
       "      <td>Passenger</td>\n",
       "      <td>3rd</td>\n",
       "      <td>Adult</td>\n",
       "      <td>Male</td>\n",
       "    </tr>\n",
       "    <tr>\n",
       "      <th>1</th>\n",
       "      <td>ABBING, Mr Anthony</td>\n",
       "      <td>42.0</td>\n",
       "      <td>3rd Class Passenger</td>\n",
       "      <td></td>\n",
       "      <td>Passenger</td>\n",
       "      <td>3rd</td>\n",
       "      <td>Adult</td>\n",
       "      <td>Male</td>\n",
       "    </tr>\n",
       "    <tr>\n",
       "      <th>2</th>\n",
       "      <td>ABBOTT, Mrs Rhoda Mary 'Rosa'</td>\n",
       "      <td>39.0</td>\n",
       "      <td>3rd Class Passenger</td>\n",
       "      <td>A</td>\n",
       "      <td>Passenger</td>\n",
       "      <td>3rd</td>\n",
       "      <td>Adult</td>\n",
       "      <td>Female</td>\n",
       "    </tr>\n",
       "    <tr>\n",
       "      <th>3</th>\n",
       "      <td>ABBOTT, Mr Rossmore Edward</td>\n",
       "      <td>16.0</td>\n",
       "      <td>3rd Class Passenger</td>\n",
       "      <td>[190]</td>\n",
       "      <td>Passenger</td>\n",
       "      <td>3rd</td>\n",
       "      <td>Child</td>\n",
       "      <td>Male</td>\n",
       "    </tr>\n",
       "    <tr>\n",
       "      <th>4</th>\n",
       "      <td>ABBOTT, Mr Eugene Joseph</td>\n",
       "      <td>13.0</td>\n",
       "      <td>3rd Class Passenger</td>\n",
       "      <td></td>\n",
       "      <td>Passenger</td>\n",
       "      <td>3rd</td>\n",
       "      <td>Child</td>\n",
       "      <td>Male</td>\n",
       "    </tr>\n",
       "  </tbody>\n",
       "</table>\n",
       "</div>"
      ],
      "text/plain": [
       "                            Name   Age           Class/Dept Boat [Body]  \\\n",
       "0    ABī-AL-MUNà, Mr Nāsīf Qāsim  27.0  3rd Class Passenger          15   \n",
       "1             ABBING, Mr Anthony  42.0  3rd Class Passenger               \n",
       "2  ABBOTT, Mrs Rhoda Mary 'Rosa'  39.0  3rd Class Passenger           A   \n",
       "3     ABBOTT, Mr Rossmore Edward  16.0  3rd Class Passenger       [190]   \n",
       "4       ABBOTT, Mr Eugene Joseph  13.0  3rd Class Passenger               \n",
       "\n",
       "   Crew/Pass Class Adult/Child  Gender  \n",
       "0  Passenger   3rd       Adult    Male  \n",
       "1  Passenger   3rd       Adult    Male  \n",
       "2  Passenger   3rd       Adult  Female  \n",
       "3  Passenger   3rd       Child    Male  \n",
       "4  Passenger   3rd       Child    Male  "
      ]
     },
     "execution_count": 20,
     "metadata": {},
     "output_type": "execute_result"
    }
   ],
   "source": [
    "data[\"Gender\"]=data[\"Name\"].apply(checkGender)\n",
    "data.head() "
   ]
  },
  {
   "cell_type": "code",
   "execution_count": 21,
   "metadata": {},
   "outputs": [
    {
     "data": {
      "text/html": [
       "<div>\n",
       "<style scoped>\n",
       "    .dataframe tbody tr th:only-of-type {\n",
       "        vertical-align: middle;\n",
       "    }\n",
       "\n",
       "    .dataframe tbody tr th {\n",
       "        vertical-align: top;\n",
       "    }\n",
       "\n",
       "    .dataframe thead th {\n",
       "        text-align: right;\n",
       "    }\n",
       "</style>\n",
       "<table border=\"1\" class=\"dataframe\">\n",
       "  <thead>\n",
       "    <tr style=\"text-align: right;\">\n",
       "      <th></th>\n",
       "      <th>Name</th>\n",
       "      <th>Age</th>\n",
       "      <th>Class/Dept</th>\n",
       "      <th>Boat [Body]</th>\n",
       "      <th>Crew/Pass</th>\n",
       "      <th>Class</th>\n",
       "      <th>Adult/Child</th>\n",
       "      <th>Gender</th>\n",
       "      <th>Survival</th>\n",
       "    </tr>\n",
       "  </thead>\n",
       "  <tbody>\n",
       "    <tr>\n",
       "      <th>0</th>\n",
       "      <td>ABī-AL-MUNà, Mr Nāsīf Qāsim</td>\n",
       "      <td>27.0</td>\n",
       "      <td>3rd Class Passenger</td>\n",
       "      <td>15</td>\n",
       "      <td>Passenger</td>\n",
       "      <td>3rd</td>\n",
       "      <td>Adult</td>\n",
       "      <td>Male</td>\n",
       "      <td>1</td>\n",
       "    </tr>\n",
       "    <tr>\n",
       "      <th>1</th>\n",
       "      <td>ABBING, Mr Anthony</td>\n",
       "      <td>42.0</td>\n",
       "      <td>3rd Class Passenger</td>\n",
       "      <td></td>\n",
       "      <td>Passenger</td>\n",
       "      <td>3rd</td>\n",
       "      <td>Adult</td>\n",
       "      <td>Male</td>\n",
       "      <td>0</td>\n",
       "    </tr>\n",
       "    <tr>\n",
       "      <th>2</th>\n",
       "      <td>ABBOTT, Mrs Rhoda Mary 'Rosa'</td>\n",
       "      <td>39.0</td>\n",
       "      <td>3rd Class Passenger</td>\n",
       "      <td>A</td>\n",
       "      <td>Passenger</td>\n",
       "      <td>3rd</td>\n",
       "      <td>Adult</td>\n",
       "      <td>Female</td>\n",
       "      <td>1</td>\n",
       "    </tr>\n",
       "    <tr>\n",
       "      <th>3</th>\n",
       "      <td>ABBOTT, Mr Rossmore Edward</td>\n",
       "      <td>16.0</td>\n",
       "      <td>3rd Class Passenger</td>\n",
       "      <td>[190]</td>\n",
       "      <td>Passenger</td>\n",
       "      <td>3rd</td>\n",
       "      <td>Child</td>\n",
       "      <td>Male</td>\n",
       "      <td>0</td>\n",
       "    </tr>\n",
       "    <tr>\n",
       "      <th>4</th>\n",
       "      <td>ABBOTT, Mr Eugene Joseph</td>\n",
       "      <td>13.0</td>\n",
       "      <td>3rd Class Passenger</td>\n",
       "      <td></td>\n",
       "      <td>Passenger</td>\n",
       "      <td>3rd</td>\n",
       "      <td>Child</td>\n",
       "      <td>Male</td>\n",
       "      <td>0</td>\n",
       "    </tr>\n",
       "  </tbody>\n",
       "</table>\n",
       "</div>"
      ],
      "text/plain": [
       "                            Name   Age           Class/Dept Boat [Body]  \\\n",
       "0    ABī-AL-MUNà, Mr Nāsīf Qāsim  27.0  3rd Class Passenger          15   \n",
       "1             ABBING, Mr Anthony  42.0  3rd Class Passenger               \n",
       "2  ABBOTT, Mrs Rhoda Mary 'Rosa'  39.0  3rd Class Passenger           A   \n",
       "3     ABBOTT, Mr Rossmore Edward  16.0  3rd Class Passenger       [190]   \n",
       "4       ABBOTT, Mr Eugene Joseph  13.0  3rd Class Passenger               \n",
       "\n",
       "   Crew/Pass Class Adult/Child  Gender  Survival  \n",
       "0  Passenger   3rd       Adult    Male         1  \n",
       "1  Passenger   3rd       Adult    Male         0  \n",
       "2  Passenger   3rd       Adult  Female         1  \n",
       "3  Passenger   3rd       Child    Male         0  \n",
       "4  Passenger   3rd       Child    Male         0  "
      ]
     },
     "execution_count": 21,
     "metadata": {},
     "output_type": "execute_result"
    }
   ],
   "source": [
    "def checkSurvival(boat):\n",
    "    if boat.strip()==\"\" or \"[\" in boat:\n",
    "        return 0\n",
    "    else:\n",
    "        return 1\n",
    "data[\"Survival\"]=data[\"Boat [Body]\"].apply(checkSurvival)\n",
    "data.head() "
   ]
  },
  {
   "cell_type": "code",
   "execution_count": 22,
   "metadata": {},
   "outputs": [
    {
     "data": {
      "text/plain": [
       "Crew/Pass\n",
       "Crew         13.586957\n",
       "Passenger    35.798817\n",
       "Name: Survival, dtype: float64"
      ]
     },
     "execution_count": 22,
     "metadata": {},
     "output_type": "execute_result"
    }
   ],
   "source": [
    "data.groupby(['Crew/Pass'])['Survival'].sum()*100/data.groupby(['Crew/Pass'])['Survival'].count()"
   ]
  },
  {
   "cell_type": "code",
   "execution_count": 23,
   "metadata": {},
   "outputs": [
    {
     "data": {
      "text/plain": [
       "Class\n",
       "1st     57.428571\n",
       "2nd     37.883959\n",
       "3rd     24.259520\n",
       "Crew    13.586957\n",
       "Name: Survival, dtype: float64"
      ]
     },
     "execution_count": 23,
     "metadata": {},
     "output_type": "execute_result"
    }
   ],
   "source": [
    "def compare(group,data):\n",
    "    return data.groupby([group])['Survival'].sum()*100/data.groupby([group])['Survival'].count()\n",
    "\n",
    "compare(\"Class\",data)"
   ]
  },
  {
   "cell_type": "code",
   "execution_count": 24,
   "metadata": {},
   "outputs": [
    {
     "data": {
      "text/plain": [
       "Gender\n",
       "Female    59.272097\n",
       "Male      15.540181\n",
       "Name: Survival, dtype: float64"
      ]
     },
     "execution_count": 24,
     "metadata": {},
     "output_type": "execute_result"
    }
   ],
   "source": [
    "compare(\"Gender\",data)"
   ]
  },
  {
   "cell_type": "code",
   "execution_count": 25,
   "metadata": {},
   "outputs": [
    {
     "data": {
      "text/plain": [
       "Adult/Child\n",
       "Adult    25.078370\n",
       "Child    33.183857\n",
       "Name: Survival, dtype: float64"
      ]
     },
     "execution_count": 25,
     "metadata": {},
     "output_type": "execute_result"
    }
   ],
   "source": [
    "compare(\"Adult/Child\",data)"
   ]
  },
  {
   "cell_type": "code",
   "execution_count": 26,
   "metadata": {},
   "outputs": [
    {
     "data": {
      "text/html": [
       "<div>\n",
       "<style scoped>\n",
       "    .dataframe tbody tr th:only-of-type {\n",
       "        vertical-align: middle;\n",
       "    }\n",
       "\n",
       "    .dataframe tbody tr th {\n",
       "        vertical-align: top;\n",
       "    }\n",
       "\n",
       "    .dataframe thead th {\n",
       "        text-align: right;\n",
       "    }\n",
       "</style>\n",
       "<table border=\"1\" class=\"dataframe\">\n",
       "  <thead>\n",
       "    <tr style=\"text-align: right;\">\n",
       "      <th></th>\n",
       "      <th>Age</th>\n",
       "      <th>Crew/Pass</th>\n",
       "      <th>Class</th>\n",
       "      <th>Adult/Child</th>\n",
       "      <th>Gender</th>\n",
       "      <th>Survival</th>\n",
       "    </tr>\n",
       "  </thead>\n",
       "  <tbody>\n",
       "    <tr>\n",
       "      <th>0</th>\n",
       "      <td>27.0</td>\n",
       "      <td>Passenger</td>\n",
       "      <td>3rd</td>\n",
       "      <td>Adult</td>\n",
       "      <td>Male</td>\n",
       "      <td>1</td>\n",
       "    </tr>\n",
       "    <tr>\n",
       "      <th>1</th>\n",
       "      <td>42.0</td>\n",
       "      <td>Passenger</td>\n",
       "      <td>3rd</td>\n",
       "      <td>Adult</td>\n",
       "      <td>Male</td>\n",
       "      <td>0</td>\n",
       "    </tr>\n",
       "    <tr>\n",
       "      <th>2</th>\n",
       "      <td>39.0</td>\n",
       "      <td>Passenger</td>\n",
       "      <td>3rd</td>\n",
       "      <td>Adult</td>\n",
       "      <td>Female</td>\n",
       "      <td>1</td>\n",
       "    </tr>\n",
       "    <tr>\n",
       "      <th>3</th>\n",
       "      <td>16.0</td>\n",
       "      <td>Passenger</td>\n",
       "      <td>3rd</td>\n",
       "      <td>Child</td>\n",
       "      <td>Male</td>\n",
       "      <td>0</td>\n",
       "    </tr>\n",
       "    <tr>\n",
       "      <th>4</th>\n",
       "      <td>13.0</td>\n",
       "      <td>Passenger</td>\n",
       "      <td>3rd</td>\n",
       "      <td>Child</td>\n",
       "      <td>Male</td>\n",
       "      <td>0</td>\n",
       "    </tr>\n",
       "  </tbody>\n",
       "</table>\n",
       "</div>"
      ],
      "text/plain": [
       "    Age  Crew/Pass Class Adult/Child  Gender  Survival\n",
       "0  27.0  Passenger   3rd       Adult    Male         1\n",
       "1  42.0  Passenger   3rd       Adult    Male         0\n",
       "2  39.0  Passenger   3rd       Adult  Female         1\n",
       "3  16.0  Passenger   3rd       Child    Male         0\n",
       "4  13.0  Passenger   3rd       Child    Male         0"
      ]
     },
     "execution_count": 26,
     "metadata": {},
     "output_type": "execute_result"
    }
   ],
   "source": [
    "trainingData=data[[\"Age\",\"Crew/Pass\",\"Class\",\"Adult/Child\",\"Gender\",\"Survival\"]]\n",
    "trainingData.head()"
   ]
  },
  {
   "cell_type": "code",
   "execution_count": 27,
   "metadata": {},
   "outputs": [
    {
     "name": "stderr",
     "output_type": "stream",
     "text": [
      "/home/renjith/anaconda3/envs/ml101/lib/python3.6/site-packages/pandas/core/frame.py:2540: SettingWithCopyWarning: \n",
      "A value is trying to be set on a copy of a slice from a DataFrame.\n",
      "Try using .loc[row_indexer,col_indexer] = value instead\n",
      "\n",
      "See the caveats in the documentation: http://pandas.pydata.org/pandas-docs/stable/indexing.html#indexing-view-versus-copy\n",
      "  self[k1] = value[k2]\n"
     ]
    },
    {
     "data": {
      "text/html": [
       "<div>\n",
       "<style scoped>\n",
       "    .dataframe tbody tr th:only-of-type {\n",
       "        vertical-align: middle;\n",
       "    }\n",
       "\n",
       "    .dataframe tbody tr th {\n",
       "        vertical-align: top;\n",
       "    }\n",
       "\n",
       "    .dataframe thead th {\n",
       "        text-align: right;\n",
       "    }\n",
       "</style>\n",
       "<table border=\"1\" class=\"dataframe\">\n",
       "  <thead>\n",
       "    <tr style=\"text-align: right;\">\n",
       "      <th></th>\n",
       "      <th>Age</th>\n",
       "      <th>Crew/Pass</th>\n",
       "      <th>Class</th>\n",
       "      <th>Adult/Child</th>\n",
       "      <th>Gender</th>\n",
       "      <th>Survival</th>\n",
       "    </tr>\n",
       "  </thead>\n",
       "  <tbody>\n",
       "    <tr>\n",
       "      <th>0</th>\n",
       "      <td>27.0</td>\n",
       "      <td>1</td>\n",
       "      <td>2</td>\n",
       "      <td>0</td>\n",
       "      <td>1</td>\n",
       "      <td>1</td>\n",
       "    </tr>\n",
       "    <tr>\n",
       "      <th>1</th>\n",
       "      <td>42.0</td>\n",
       "      <td>1</td>\n",
       "      <td>2</td>\n",
       "      <td>0</td>\n",
       "      <td>1</td>\n",
       "      <td>0</td>\n",
       "    </tr>\n",
       "    <tr>\n",
       "      <th>2</th>\n",
       "      <td>39.0</td>\n",
       "      <td>1</td>\n",
       "      <td>2</td>\n",
       "      <td>0</td>\n",
       "      <td>0</td>\n",
       "      <td>1</td>\n",
       "    </tr>\n",
       "    <tr>\n",
       "      <th>3</th>\n",
       "      <td>16.0</td>\n",
       "      <td>1</td>\n",
       "      <td>2</td>\n",
       "      <td>1</td>\n",
       "      <td>1</td>\n",
       "      <td>0</td>\n",
       "    </tr>\n",
       "    <tr>\n",
       "      <th>4</th>\n",
       "      <td>13.0</td>\n",
       "      <td>1</td>\n",
       "      <td>2</td>\n",
       "      <td>1</td>\n",
       "      <td>1</td>\n",
       "      <td>0</td>\n",
       "    </tr>\n",
       "  </tbody>\n",
       "</table>\n",
       "</div>"
      ],
      "text/plain": [
       "    Age  Crew/Pass  Class  Adult/Child  Gender  Survival\n",
       "0  27.0          1      2            0       1         1\n",
       "1  42.0          1      2            0       1         0\n",
       "2  39.0          1      2            0       0         1\n",
       "3  16.0          1      2            1       1         0\n",
       "4  13.0          1      2            1       1         0"
      ]
     },
     "execution_count": 27,
     "metadata": {},
     "output_type": "execute_result"
    }
   ],
   "source": [
    "def catToNum(series):\n",
    "    series = series.astype('category')\n",
    "    return series.cat.codes\n",
    "\n",
    "catData=trainingData[[\"Crew/Pass\",\"Class\",\"Adult/Child\",\"Gender\"]].apply(catToNum)\n",
    "trainingData[[\"Crew/Pass\",\"Class\",\"Adult/Child\",\"Gender\"]]=catData\n",
    "trainingData.head()"
   ]
  },
  {
   "cell_type": "code",
   "execution_count": 28,
   "metadata": {},
   "outputs": [
    {
     "data": {
      "text/plain": [
       "2456"
      ]
     },
     "execution_count": 28,
     "metadata": {},
     "output_type": "execute_result"
    }
   ],
   "source": [
    "len(trainingData)"
   ]
  },
  {
   "cell_type": "code",
   "execution_count": 29,
   "metadata": {},
   "outputs": [
    {
     "data": {
      "text/plain": [
       "2426"
      ]
     },
     "execution_count": 29,
     "metadata": {},
     "output_type": "execute_result"
    }
   ],
   "source": [
    "trainingData = trainingData.dropna()\n",
    "len(trainingData)"
   ]
  },
  {
   "cell_type": "code",
   "execution_count": 30,
   "metadata": {},
   "outputs": [],
   "source": [
    "from sklearn.model_selection import train_test_split\n",
    "train, test = train_test_split(trainingData, test_size = 0.2)"
   ]
  },
  {
   "cell_type": "code",
   "execution_count": 31,
   "metadata": {},
   "outputs": [
    {
     "data": {
      "text/html": [
       "<div>\n",
       "<style scoped>\n",
       "    .dataframe tbody tr th:only-of-type {\n",
       "        vertical-align: middle;\n",
       "    }\n",
       "\n",
       "    .dataframe tbody tr th {\n",
       "        vertical-align: top;\n",
       "    }\n",
       "\n",
       "    .dataframe thead th {\n",
       "        text-align: right;\n",
       "    }\n",
       "</style>\n",
       "<table border=\"1\" class=\"dataframe\">\n",
       "  <thead>\n",
       "    <tr style=\"text-align: right;\">\n",
       "      <th></th>\n",
       "      <th>Age</th>\n",
       "      <th>Crew/Pass</th>\n",
       "      <th>Class</th>\n",
       "      <th>Adult/Child</th>\n",
       "      <th>Gender</th>\n",
       "      <th>Survival</th>\n",
       "    </tr>\n",
       "  </thead>\n",
       "  <tbody>\n",
       "    <tr>\n",
       "      <th>1468</th>\n",
       "      <td>32.0</td>\n",
       "      <td>0</td>\n",
       "      <td>3</td>\n",
       "      <td>0</td>\n",
       "      <td>1</td>\n",
       "      <td>0</td>\n",
       "    </tr>\n",
       "    <tr>\n",
       "      <th>1182</th>\n",
       "      <td>35.0</td>\n",
       "      <td>1</td>\n",
       "      <td>1</td>\n",
       "      <td>0</td>\n",
       "      <td>1</td>\n",
       "      <td>0</td>\n",
       "    </tr>\n",
       "    <tr>\n",
       "      <th>125</th>\n",
       "      <td>19.0</td>\n",
       "      <td>0</td>\n",
       "      <td>3</td>\n",
       "      <td>0</td>\n",
       "      <td>1</td>\n",
       "      <td>1</td>\n",
       "    </tr>\n",
       "    <tr>\n",
       "      <th>176</th>\n",
       "      <td>36.0</td>\n",
       "      <td>1</td>\n",
       "      <td>0</td>\n",
       "      <td>0</td>\n",
       "      <td>1</td>\n",
       "      <td>0</td>\n",
       "    </tr>\n",
       "    <tr>\n",
       "      <th>2015</th>\n",
       "      <td>28.0</td>\n",
       "      <td>1</td>\n",
       "      <td>1</td>\n",
       "      <td>0</td>\n",
       "      <td>1</td>\n",
       "      <td>0</td>\n",
       "    </tr>\n",
       "  </tbody>\n",
       "</table>\n",
       "</div>"
      ],
      "text/plain": [
       "       Age  Crew/Pass  Class  Adult/Child  Gender  Survival\n",
       "1468  32.0          0      3            0       1         0\n",
       "1182  35.0          1      1            0       1         0\n",
       "125   19.0          0      3            0       1         1\n",
       "176   36.0          1      0            0       1         0\n",
       "2015  28.0          1      1            0       1         0"
      ]
     },
     "execution_count": 31,
     "metadata": {},
     "output_type": "execute_result"
    }
   ],
   "source": [
    "train.head()"
   ]
  },
  {
   "cell_type": "code",
   "execution_count": 32,
   "metadata": {},
   "outputs": [
    {
     "data": {
      "text/html": [
       "<div>\n",
       "<style scoped>\n",
       "    .dataframe tbody tr th:only-of-type {\n",
       "        vertical-align: middle;\n",
       "    }\n",
       "\n",
       "    .dataframe tbody tr th {\n",
       "        vertical-align: top;\n",
       "    }\n",
       "\n",
       "    .dataframe thead th {\n",
       "        text-align: right;\n",
       "    }\n",
       "</style>\n",
       "<table border=\"1\" class=\"dataframe\">\n",
       "  <thead>\n",
       "    <tr style=\"text-align: right;\">\n",
       "      <th></th>\n",
       "      <th>Age</th>\n",
       "      <th>Crew/Pass</th>\n",
       "      <th>Class</th>\n",
       "      <th>Adult/Child</th>\n",
       "      <th>Gender</th>\n",
       "      <th>Survival</th>\n",
       "    </tr>\n",
       "  </thead>\n",
       "  <tbody>\n",
       "    <tr>\n",
       "      <th>407</th>\n",
       "      <td>21.0</td>\n",
       "      <td>0</td>\n",
       "      <td>3</td>\n",
       "      <td>0</td>\n",
       "      <td>1</td>\n",
       "      <td>0</td>\n",
       "    </tr>\n",
       "    <tr>\n",
       "      <th>1099</th>\n",
       "      <td>16.0</td>\n",
       "      <td>1</td>\n",
       "      <td>2</td>\n",
       "      <td>1</td>\n",
       "      <td>0</td>\n",
       "      <td>0</td>\n",
       "    </tr>\n",
       "    <tr>\n",
       "      <th>798</th>\n",
       "      <td>36.0</td>\n",
       "      <td>1</td>\n",
       "      <td>1</td>\n",
       "      <td>0</td>\n",
       "      <td>1</td>\n",
       "      <td>0</td>\n",
       "    </tr>\n",
       "    <tr>\n",
       "      <th>1432</th>\n",
       "      <td>29.0</td>\n",
       "      <td>1</td>\n",
       "      <td>2</td>\n",
       "      <td>0</td>\n",
       "      <td>1</td>\n",
       "      <td>0</td>\n",
       "    </tr>\n",
       "    <tr>\n",
       "      <th>1290</th>\n",
       "      <td>8.0</td>\n",
       "      <td>1</td>\n",
       "      <td>2</td>\n",
       "      <td>1</td>\n",
       "      <td>0</td>\n",
       "      <td>0</td>\n",
       "    </tr>\n",
       "  </tbody>\n",
       "</table>\n",
       "</div>"
      ],
      "text/plain": [
       "       Age  Crew/Pass  Class  Adult/Child  Gender  Survival\n",
       "407   21.0          0      3            0       1         0\n",
       "1099  16.0          1      2            1       0         0\n",
       "798   36.0          1      1            0       1         0\n",
       "1432  29.0          1      2            0       1         0\n",
       "1290   8.0          1      2            1       0         0"
      ]
     },
     "execution_count": 32,
     "metadata": {},
     "output_type": "execute_result"
    }
   ],
   "source": [
    "test.head()"
   ]
  },
  {
   "cell_type": "code",
   "execution_count": 33,
   "metadata": {},
   "outputs": [
    {
     "data": {
      "text/plain": [
       "1940"
      ]
     },
     "execution_count": 33,
     "metadata": {},
     "output_type": "execute_result"
    }
   ],
   "source": [
    "len(train)"
   ]
  },
  {
   "cell_type": "code",
   "execution_count": 34,
   "metadata": {},
   "outputs": [
    {
     "data": {
      "text/plain": [
       "486"
      ]
     },
     "execution_count": 34,
     "metadata": {},
     "output_type": "execute_result"
    }
   ],
   "source": [
    "len(test)"
   ]
  },
  {
   "cell_type": "code",
   "execution_count": 35,
   "metadata": {},
   "outputs": [],
   "source": [
    "from sklearn.tree import DecisionTreeClassifier\n",
    "clf=DecisionTreeClassifier(max_leaf_nodes=25)\n",
    "clf=clf.fit(train[[\"Age\",\"Crew/Pass\",\"Class\",\"Adult/Child\",\"Gender\"]],train[\"Survival\"])"
   ]
  },
  {
   "cell_type": "code",
   "execution_count": 122,
   "metadata": {},
   "outputs": [
    {
     "data": {
      "text/plain": [
       "array([0.21808253, 0.        , 0.28108528, 0.        , 0.50083219])"
      ]
     },
     "execution_count": 122,
     "metadata": {},
     "output_type": "execute_result"
    }
   ],
   "source": [
    "clf.feature_importances_"
   ]
  },
  {
   "cell_type": "code",
   "execution_count": 123,
   "metadata": {},
   "outputs": [],
   "source": [
    "from sklearn import tree\n",
    "with open(\"titanic.dot\",\"w\") as f:\n",
    "    f = tree.export_graphviz(clf,\n",
    "                            feature_names=[\"Age\",\"Crew/Pass\",\"Class\",\"Adult/Child\",\"Gender\"],out_file=f)"
   ]
  },
  {
   "cell_type": "code",
   "execution_count": 124,
   "metadata": {},
   "outputs": [],
   "source": [
    "predictions = clf.predict(test[[\"Age\",\"Crew/Pass\",\"Class\",\"Adult/Child\",\"Gender\"]])"
   ]
  },
  {
   "cell_type": "code",
   "execution_count": 125,
   "metadata": {},
   "outputs": [
    {
     "data": {
      "text/plain": [
       "0.7942386831275721"
      ]
     },
     "execution_count": 125,
     "metadata": {},
     "output_type": "execute_result"
    }
   ],
   "source": [
    "from sklearn.metrics import accuracy_score\n",
    "accuracy_score(test[\"Survival\"], predictions)"
   ]
  }
 ],
 "metadata": {
  "kernelspec": {
   "display_name": "Python 3",
   "language": "python",
   "name": "python3"
  },
  "language_info": {
   "codemirror_mode": {
    "name": "ipython",
    "version": 3
   },
   "file_extension": ".py",
   "mimetype": "text/x-python",
   "name": "python",
   "nbconvert_exporter": "python",
   "pygments_lexer": "ipython3",
   "version": "3.6.4"
  }
 },
 "nbformat": 4,
 "nbformat_minor": 2
}
